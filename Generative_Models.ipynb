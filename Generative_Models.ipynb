{
 "cells": [
  {
   "cell_type": "code",
   "execution_count": 1,
   "id": "116f6c3a-2958-455e-8f47-1b272ae38b16",
   "metadata": {
    "execution": {
     "iopub.execute_input": "2022-05-15T21:02:02.295455Z",
     "iopub.status.busy": "2022-05-15T21:02:02.295455Z",
     "iopub.status.idle": "2022-05-15T21:02:04.407432Z",
     "shell.execute_reply": "2022-05-15T21:02:04.406446Z",
     "shell.execute_reply.started": "2022-05-15T21:02:02.295455Z"
    },
    "tags": []
   },
   "outputs": [],
   "source": [
    "import numpy as np\n",
    "import pandas as pd\n",
    "from sklearn.model_selection import train_test_split\n",
    "from models import AE, VAE\n",
    "from trainers import AETrainer, VAETrainer\n",
    "from sklearn.preprocessing import LabelEncoder\n",
    "import matplotlib.pyplot as plt"
   ]
  },
  {
   "cell_type": "code",
   "execution_count": 2,
   "id": "a3d64eb2-2738-44a8-9342-f378c72b4e43",
   "metadata": {
    "execution": {
     "iopub.execute_input": "2022-05-15T21:02:04.409428Z",
     "iopub.status.busy": "2022-05-15T21:02:04.409428Z",
     "iopub.status.idle": "2022-05-15T21:02:05.735423Z",
     "shell.execute_reply": "2022-05-15T21:02:05.734408Z",
     "shell.execute_reply.started": "2022-05-15T21:02:04.409428Z"
    },
    "tags": []
   },
   "outputs": [],
   "source": [
    "import torch\n",
    "import torch.nn as nn\n",
    "import torch.optim as optim\n",
    "import torch.nn.functional as F\n",
    "from torchvision import datasets, transforms\n",
    "from torch.utils.data import DataLoader, Dataset\n",
    "device = torch.device(\"cuda\" if torch.cuda.is_available() else \"cpu\")"
   ]
  },
  {
   "cell_type": "markdown",
   "id": "a75f425c-00c8-477c-ada3-7449c9eaaa97",
   "metadata": {},
   "source": [
    "# Task 1"
   ]
  },
  {
   "cell_type": "code",
   "execution_count": 3,
   "id": "b5a48137-476b-42bb-b7ee-78bb1a7921a1",
   "metadata": {
    "execution": {
     "iopub.execute_input": "2022-05-15T21:02:05.736423Z",
     "iopub.status.busy": "2022-05-15T21:02:05.736423Z",
     "iopub.status.idle": "2022-05-15T21:02:17.274405Z",
     "shell.execute_reply": "2022-05-15T21:02:17.273430Z",
     "shell.execute_reply.started": "2022-05-15T21:02:05.736423Z"
    },
    "tags": []
   },
   "outputs": [],
   "source": [
    "df_identity = pd.read_csv('data/task1/data_identity.csv')\n",
    "df_transaction = pd.read_csv('data/task1/data_transaction.csv')"
   ]
  },
  {
   "cell_type": "code",
   "execution_count": 4,
   "id": "ee0c87e1-f1d8-4fa4-a3e6-14246e04841d",
   "metadata": {
    "execution": {
     "iopub.execute_input": "2022-05-15T21:02:17.276419Z",
     "iopub.status.busy": "2022-05-15T21:02:17.275415Z",
     "iopub.status.idle": "2022-05-15T21:02:18.368421Z",
     "shell.execute_reply": "2022-05-15T21:02:18.367419Z",
     "shell.execute_reply.started": "2022-05-15T21:02:17.276419Z"
    },
    "tags": []
   },
   "outputs": [],
   "source": [
    "df = pd.merge(df_identity, df_transaction, on='TransactionID')"
   ]
  },
  {
   "cell_type": "code",
   "execution_count": 5,
   "id": "0994deff-deee-48a1-a621-60cc0bbece13",
   "metadata": {
    "execution": {
     "iopub.execute_input": "2022-05-15T21:02:18.369423Z",
     "iopub.status.busy": "2022-05-15T21:02:18.369423Z",
     "iopub.status.idle": "2022-05-15T21:02:19.344403Z",
     "shell.execute_reply": "2022-05-15T21:02:19.343400Z",
     "shell.execute_reply.started": "2022-05-15T21:02:18.369423Z"
    },
    "tags": []
   },
   "outputs": [],
   "source": [
    "labeled_df = df.select_dtypes(exclude=['float64', 'int64', 'int32']).apply(\n",
    "    lambda series: pd.Series(LabelEncoder().fit_transform(series[series.notnull()]), index=series[series.notnull()].index))\n",
    "\n",
    "df[labeled_df.columns] = labeled_df"
   ]
  },
  {
   "cell_type": "code",
   "execution_count": 6,
   "id": "9616d131-ef62-411e-8a51-d596fc7ffac3",
   "metadata": {
    "execution": {
     "iopub.execute_input": "2022-05-15T21:02:19.345399Z",
     "iopub.status.busy": "2022-05-15T21:02:19.345399Z",
     "iopub.status.idle": "2022-05-15T21:02:19.712398Z",
     "shell.execute_reply": "2022-05-15T21:02:19.711398Z",
     "shell.execute_reply.started": "2022-05-15T21:02:19.345399Z"
    },
    "tags": []
   },
   "outputs": [],
   "source": [
    "x = torch.torch.from_numpy(df.values).to(torch.float32)"
   ]
  },
  {
   "cell_type": "code",
   "execution_count": 7,
   "id": "340ae54b-02cb-435d-8125-6468d9577e74",
   "metadata": {
    "execution": {
     "iopub.execute_input": "2022-05-15T21:02:19.713398Z",
     "iopub.status.busy": "2022-05-15T21:02:19.712398Z",
     "iopub.status.idle": "2022-05-15T21:02:19.886406Z",
     "shell.execute_reply": "2022-05-15T21:02:19.885401Z",
     "shell.execute_reply.started": "2022-05-15T21:02:19.713398Z"
    },
    "tags": []
   },
   "outputs": [
    {
     "name": "stderr",
     "output_type": "stream",
     "text": [
      "D:\\work\\Projects\\Programming\\PythonProjects\\UniverInnopolis\\ML\\AML\\Assignments\\AML-Generative-Models\\trainers.py:10: UserWarning: To copy construct from a tensor, it is recommended to use sourceTensor.clone().detach() or sourceTensor.clone().detach().requires_grad_(True), rather than torch.tensor(sourceTensor).\n",
      "  self.data = torch.tensor(data)\n"
     ]
    }
   ],
   "source": [
    "model = AE\n",
    "\n",
    "ae_trainer = AETrainer(x, model, regularization=False)\n",
    "ae_trainer_reg = AETrainer(x, model, regularization=True)"
   ]
  },
  {
   "cell_type": "code",
   "execution_count": 8,
   "id": "2c06a4d4-2837-4d01-8175-26f7d25a38cb",
   "metadata": {
    "execution": {
     "iopub.execute_input": "2022-05-15T21:02:19.888401Z",
     "iopub.status.busy": "2022-05-15T21:02:19.887407Z",
     "iopub.status.idle": "2022-05-15T21:08:02.010760Z",
     "shell.execute_reply": "2022-05-15T21:08:02.009781Z",
     "shell.execute_reply.started": "2022-05-15T21:02:19.888401Z"
    },
    "tags": []
   },
   "outputs": [
    {
     "name": "stdout",
     "output_type": "stream",
     "text": [
      "epoch 0 train_loss: 13998835.053097345 test_loss: 12308769.0\n",
      "epoch 20 train_loss: 299948.12119745574 test_loss: 276141.0625\n",
      "epoch 40 train_loss: 8900.946211283186 test_loss: 8326.0927734375\n",
      "epoch 60 train_loss: 378.1182652363735 test_loss: 383.7254638671875\n",
      "epoch 80 train_loss: 35.11177873453208 test_loss: 34.62373733520508\n",
      "epoch 100 train_loss: 3.328432225020586 test_loss: 2.526062250137329\n",
      "epoch 120 train_loss: 1.7579775372173934 test_loss: 1.715214490890503\n",
      "epoch 140 train_loss: 1.043412799460698 test_loss: 1.520031452178955\n",
      "epoch 160 train_loss: 0.6386018300478438 test_loss: 1.3600671291351318\n",
      "epoch 180 train_loss: 0.4249212402949291 test_loss: 1.219080924987793\n",
      "epoch 200 train_loss: 0.3258544375411177 test_loss: 1.1069629192352295\n",
      "epoch 220 train_loss: 0.28443104951782566 test_loss: 1.0181902647018433\n",
      "epoch 240 train_loss: 0.2716734075704507 test_loss: 0.9707791209220886\n",
      "epoch 260 train_loss: 0.26898318318139136 test_loss: 0.9390093684196472\n",
      "epoch 280 train_loss: 0.2689237938781755 test_loss: 0.9335946440696716\n",
      "epoch 300 train_loss: 0.26890054912166256 test_loss: 0.9335946440696716\n",
      "epoch 320 train_loss: 0.2689233747995005 test_loss: 0.9335946440696716\n"
     ]
    }
   ],
   "source": [
    "ae_trainer.train(train_epochs=321, batch_size=512, verbose_time=20, lr=1e-6)"
   ]
  },
  {
   "cell_type": "code",
   "execution_count": 9,
   "id": "02fa4f1c-412b-41e3-801e-7cbfaa556fcb",
   "metadata": {
    "execution": {
     "iopub.execute_input": "2022-05-15T21:08:02.011770Z",
     "iopub.status.busy": "2022-05-15T21:08:02.010760Z",
     "iopub.status.idle": "2022-05-15T21:16:03.534437Z",
     "shell.execute_reply": "2022-05-15T21:16:03.533434Z",
     "shell.execute_reply.started": "2022-05-15T21:08:02.011770Z"
    },
    "tags": []
   },
   "outputs": [
    {
     "name": "stdout",
     "output_type": "stream",
     "text": [
      "epoch 0 train_loss: 12081291.35840708 test_loss: 10515459.0\n",
      "epoch 20 train_loss: 151905.01690403762 test_loss: 139147.3125\n",
      "epoch 40 train_loss: 5569.171842591953 test_loss: 5185.205078125\n",
      "epoch 60 train_loss: 292.85376044079266 test_loss: 274.0442199707031\n",
      "epoch 80 train_loss: 0.6528190139648133 test_loss: 0.6186853051185608\n",
      "epoch 100 train_loss: 0.27026903497434296 test_loss: 0.2665603756904602\n",
      "epoch 120 train_loss: 0.25953714298990976 test_loss: 0.25954216718673706\n",
      "epoch 140 train_loss: 0.2569842736805435 test_loss: 0.2570088505744934\n",
      "epoch 160 train_loss: 0.25381697602240383 test_loss: 0.25386881828308105\n",
      "epoch 180 train_loss: 0.24980462447995633 test_loss: 0.24981087446212769\n",
      "epoch 200 train_loss: 0.24492863176670748 test_loss: 0.24492226541042328\n",
      "epoch 220 train_loss: 0.23962735081404712 test_loss: 0.2396172732114792\n",
      "epoch 240 train_loss: 0.23415724557321682 test_loss: 0.2341257929801941\n",
      "epoch 260 train_loss: 0.22849530700297482 test_loss: 0.22846631705760956\n",
      "epoch 280 train_loss: 0.22284734822743762 test_loss: 0.22280089557170868\n",
      "epoch 300 train_loss: 0.21721639939114057 test_loss: 0.21719114482402802\n",
      "epoch 320 train_loss: 0.21171201040259505 test_loss: 0.2117084413766861\n"
     ]
    }
   ],
   "source": [
    "ae_trainer_reg.train(train_epochs=321, batch_size=512, verbose_time=20, lr=1e-6)"
   ]
  },
  {
   "cell_type": "code",
   "execution_count": 18,
   "id": "96239239-de5d-44cd-9342-415e73218b9c",
   "metadata": {
    "execution": {
     "iopub.execute_input": "2022-05-15T21:25:16.076266Z",
     "iopub.status.busy": "2022-05-15T21:25:16.076266Z",
     "iopub.status.idle": "2022-05-15T21:25:16.132261Z",
     "shell.execute_reply": "2022-05-15T21:25:16.131259Z",
     "shell.execute_reply.started": "2022-05-15T21:25:16.076266Z"
    },
    "tags": []
   },
   "outputs": [],
   "source": [
    "vae_model = VAE\n",
    "\n",
    "vae_trainer = VAETrainer(x, vae_model)"
   ]
  },
  {
   "cell_type": "code",
   "execution_count": 19,
   "id": "090469b1-8b18-46a9-ace0-881ce8fd6def",
   "metadata": {
    "execution": {
     "iopub.execute_input": "2022-05-15T21:25:16.660972Z",
     "iopub.status.busy": "2022-05-15T21:25:16.660972Z",
     "iopub.status.idle": "2022-05-15T21:32:58.795175Z",
     "shell.execute_reply": "2022-05-15T21:32:58.795175Z",
     "shell.execute_reply.started": "2022-05-15T21:25:16.660972Z"
    },
    "tags": []
   },
   "outputs": [
    {
     "name": "stdout",
     "output_type": "stream",
     "text": [
      "epoch 0 train_loss: 0.24725543298816258 test_loss: 2.0070143374026342e+17\n",
      "epoch 20 train_loss: 0.22029518771224318 test_loss: inf\n",
      "epoch 40 train_loss: 0.1696813053789392 test_loss: 0.7974963188171387\n",
      "epoch 60 train_loss: 0.10540139952064616 test_loss: inf\n",
      "epoch 80 train_loss: 0.048651575712503586 test_loss: inf\n",
      "epoch 100 train_loss: 0.019485844546450977 test_loss: 0.029226981103420258\n",
      "epoch 120 train_loss: 0.011712126137144797 test_loss: inf\n",
      "epoch 140 train_loss: 0.00918561342559689 test_loss: 0.011158485896885395\n",
      "epoch 160 train_loss: 0.007849466286401832 test_loss: 763839296.0\n",
      "epoch 180 train_loss: 0.006909977523115488 test_loss: 5.790513353990777e+21\n",
      "epoch 200 train_loss: 0.006159187455257747 test_loss: 0.006373328156769276\n"
     ]
    }
   ],
   "source": [
    "vae_trainer.train(train_epochs=201, batch_size=512, verbose_time=20, lr=1e-6)"
   ]
  },
  {
   "cell_type": "code",
   "execution_count": 20,
   "id": "aceae9fc-edd7-4d75-828e-440c974f1a42",
   "metadata": {
    "execution": {
     "iopub.execute_input": "2022-05-15T21:33:11.133330Z",
     "iopub.status.busy": "2022-05-15T21:33:11.133330Z",
     "iopub.status.idle": "2022-05-15T21:33:11.217329Z",
     "shell.execute_reply": "2022-05-15T21:33:11.216338Z",
     "shell.execute_reply.started": "2022-05-15T21:33:11.133330Z"
    },
    "tags": []
   },
   "outputs": [
    {
     "data": {
      "image/png": "[encoded data removed]",
      "text/plain": [
       "<Figure size 432x288 with 1 Axes>"
      ]
     },
     "metadata": {
      "needs_background": "light"
     },
     "output_type": "display_data"
    }
   ],
   "source": [
    "X = ['Train Masked MSE','Test Masked MSE']\n",
    "ae_best = np.argmin(ae_trainer.history['test_loss'])\n",
    "ae = [ae_trainer.history['train_loss'][ae_best], ae_trainer.history['test_loss'][ae_best]]\n",
    "\n",
    "ae_reg_best = np.argmin(ae_trainer_reg.history['test_loss'])\n",
    "ae_reg = [ae_trainer_reg.history['train_loss'][ae_reg_best], ae_trainer_reg.history['test_loss'][ae_reg_best]]\n",
    "\n",
    "vae_best = np.argmin(vae_trainer.history['test_loss'])\n",
    "vae = [vae_trainer.history['train_loss'][vae_best], vae_trainer.history['test_loss'][vae_best]]\n",
    "  \n",
    "X_axis = np.arange(len(X))\n",
    "  \n",
    "plt.bar(X_axis - 0.2, ae, 0.1, label = 'AE')\n",
    "plt.bar(X_axis, ae_reg, 0.1, label = 'RegAE')\n",
    "plt.bar(X_axis + 0.2, vae, 0.1, label = 'VAE')\n",
    "\n",
    "plt.xticks(X_axis, X)\n",
    "plt.ylabel(\"MSE\")\n",
    "plt.legend()\n",
    "plt.show()"
   ]
  },
  {
   "cell_type": "markdown",
   "id": "5d52f2cd-1465-4c16-8d76-7de83e4f05f7",
   "metadata": {},
   "source": [
    "# Task 2"
   ]
  },
  {
   "cell_type": "code",
   "execution_count": 21,
   "id": "36aee9fb-c1bf-4d66-8ac6-680d2d7adf3f",
   "metadata": {
    "execution": {
     "iopub.execute_input": "2022-05-15T21:37:51.561062Z",
     "iopub.status.busy": "2022-05-15T21:37:51.561062Z",
     "iopub.status.idle": "2022-05-15T21:37:51.825067Z",
     "shell.execute_reply": "2022-05-15T21:37:51.824065Z",
     "shell.execute_reply.started": "2022-05-15T21:37:51.561062Z"
    }
   },
   "outputs": [],
   "source": [
    "df2 = pd.read_csv('data/task2/UNSW_NB15_training-set.csv')"
   ]
  },
  {
   "cell_type": "code",
   "execution_count": null,
   "id": "7014edfa-9ccc-4510-8327-7fcbda5022c5",
   "metadata": {
    "tags": []
   },
   "outputs": [],
   "source": []
  },
  {
   "cell_type": "code",
   "execution_count": null,
   "id": "525cd01a-4464-43ba-9310-060208b20ea9",
   "metadata": {},
   "outputs": [],
   "source": []
  }
 ],
 "metadata": {
  "kernelspec": {
   "display_name": "Python 3 (ipykernel)",
   "language": "python",
   "name": "python3"
  },
  "language_info": {
   "codemirror_mode": {
    "name": "ipython",
    "version": 3
   },
   "file_extension": ".py",
   "mimetype": "text/x-python",
   "name": "python",
   "nbconvert_exporter": "python",
   "pygments_lexer": "ipython3",
   "version": "3.9.9"
  }
 },
 "nbformat": 4,
 "nbformat_minor": 5
}
