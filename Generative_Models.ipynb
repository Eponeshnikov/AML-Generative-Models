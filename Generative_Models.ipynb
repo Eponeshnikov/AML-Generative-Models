{
 "cells": [
  {
   "cell_type": "code",
   "execution_count": 1,
   "id": "116f6c3a-2958-455e-8f47-1b272ae38b16",
   "metadata": {
    "execution": {
     "iopub.execute_input": "2022-05-17T20:30:30.018345Z",
     "iopub.status.busy": "2022-05-17T20:30:30.018345Z",
     "iopub.status.idle": "2022-05-17T20:30:32.136344Z",
     "shell.execute_reply": "2022-05-17T20:30:32.135338Z",
     "shell.execute_reply.started": "2022-05-17T20:30:30.018345Z"
    },
    "tags": []
   },
   "outputs": [],
   "source": [
    "import numpy as np\n",
    "import pandas as pd\n",
    "from sklearn.model_selection import train_test_split\n",
    "from models import AE, VAE, GeneratorModel, DiscriminatorModel\n",
    "from trainers import AETrainer, VAETrainer, CGanTrainer\n",
    "from sklearn.preprocessing import LabelEncoder\n",
    "from sklearn.linear_model import PassiveAggressiveClassifier\n",
    "import matplotlib.pyplot as plt\n",
    "from utils import UNSWDataset\n",
    "from interpret.glassbox import ExplainableBoostingClassifier\n",
    "from sklearn.ensemble import RandomForestClassifier\n",
    "from sklearn.decomposition import PCA\n",
    "from sklearn.metrics import f1_score, classification_report\n",
    "from tqdm import tqdm\n",
    "from sklearn.preprocessing import MinMaxScaler\n",
    "from sklearn.discriminant_analysis import LinearDiscriminantAnalysis as LDA"
   ]
  },
  {
   "cell_type": "code",
   "execution_count": 2,
   "id": "a3d64eb2-2738-44a8-9342-f378c72b4e43",
   "metadata": {
    "execution": {
     "iopub.execute_input": "2022-05-17T20:30:32.137344Z",
     "iopub.status.busy": "2022-05-17T20:30:32.137344Z",
     "iopub.status.idle": "2022-05-17T20:30:33.498630Z",
     "shell.execute_reply": "2022-05-17T20:30:33.498630Z",
     "shell.execute_reply.started": "2022-05-17T20:30:32.137344Z"
    },
    "tags": []
   },
   "outputs": [],
   "source": [
    "import torch\n",
    "import torch.nn as nn\n",
    "import torch.optim as optim\n",
    "import torch.nn.functional as F\n",
    "from torchvision import datasets, transforms\n",
    "from torch.utils.data import DataLoader, Dataset\n",
    "device = torch.device(\"cuda\" if torch.cuda.is_available() else \"cpu\")\n",
    "import warnings\n",
    "warnings.simplefilter(\"ignore\")"
   ]
  },
  {
   "cell_type": "markdown",
   "id": "a75f425c-00c8-477c-ada3-7449c9eaaa97",
   "metadata": {},
   "source": [
    "# Task 1"
   ]
  },
  {
   "cell_type": "markdown",
   "id": "b05dc576-4484-4774-b7f7-8e5dafccb56d",
   "metadata": {},
   "source": [
    "## Data preprocessing"
   ]
  },
  {
   "cell_type": "code",
   "execution_count": 3,
   "id": "b5a48137-476b-42bb-b7ee-78bb1a7921a1",
   "metadata": {
    "execution": {
     "iopub.execute_input": "2022-05-17T20:30:33.499629Z",
     "iopub.status.busy": "2022-05-17T20:30:33.499629Z",
     "iopub.status.idle": "2022-05-17T20:30:44.944632Z",
     "shell.execute_reply": "2022-05-17T20:30:44.943618Z",
     "shell.execute_reply.started": "2022-05-17T20:30:33.499629Z"
    },
    "tags": []
   },
   "outputs": [],
   "source": [
    "df_identity = pd.read_csv('data/task1/data_identity.csv')\n",
    "df_transaction = pd.read_csv('data/task1/data_transaction.csv')"
   ]
  },
  {
   "cell_type": "code",
   "execution_count": 4,
   "id": "ee0c87e1-f1d8-4fa4-a3e6-14246e04841d",
   "metadata": {
    "execution": {
     "iopub.execute_input": "2022-05-17T20:30:44.945621Z",
     "iopub.status.busy": "2022-05-17T20:30:44.945621Z",
     "iopub.status.idle": "2022-05-17T20:30:48.176629Z",
     "shell.execute_reply": "2022-05-17T20:30:48.175649Z",
     "shell.execute_reply.started": "2022-05-17T20:30:44.945621Z"
    },
    "tags": []
   },
   "outputs": [],
   "source": [
    "df = pd.merge(df_identity, df_transaction, on='TransactionID')"
   ]
  },
  {
   "cell_type": "code",
   "execution_count": 5,
   "id": "0994deff-deee-48a1-a621-60cc0bbece13",
   "metadata": {
    "execution": {
     "iopub.execute_input": "2022-05-17T20:30:48.178640Z",
     "iopub.status.busy": "2022-05-17T20:30:48.177634Z",
     "iopub.status.idle": "2022-05-17T20:30:49.811629Z",
     "shell.execute_reply": "2022-05-17T20:30:49.810629Z",
     "shell.execute_reply.started": "2022-05-17T20:30:48.178640Z"
    },
    "tags": []
   },
   "outputs": [],
   "source": [
    "labeled_df = df.select_dtypes(exclude=['float64', 'int64', 'int32']).apply(\n",
    "    lambda series: pd.Series(LabelEncoder().fit_transform(series[series.notnull()]), index=series[series.notnull()].index))\n",
    "\n",
    "df[labeled_df.columns] = labeled_df"
   ]
  },
  {
   "cell_type": "code",
   "execution_count": 6,
   "id": "9616d131-ef62-411e-8a51-d596fc7ffac3",
   "metadata": {
    "execution": {
     "iopub.execute_input": "2022-05-17T20:30:49.813635Z",
     "iopub.status.busy": "2022-05-17T20:30:49.812626Z",
     "iopub.status.idle": "2022-05-17T20:30:51.337620Z",
     "shell.execute_reply": "2022-05-17T20:30:51.336618Z",
     "shell.execute_reply.started": "2022-05-17T20:30:49.813635Z"
    },
    "tags": []
   },
   "outputs": [],
   "source": [
    "x = torch.torch.from_numpy(MinMaxScaler().fit_transform(df.drop('isFraud', axis=1).values)).to(torch.float32)\n",
    "y = df['isFraud']"
   ]
  },
  {
   "cell_type": "markdown",
   "id": "64b60ebf-f358-4d64-a7b5-c47de8b54178",
   "metadata": {},
   "source": [
    "## Training/Testing Autoencoders"
   ]
  },
  {
   "cell_type": "code",
   "execution_count": 7,
   "id": "340ae54b-02cb-435d-8125-6468d9577e74",
   "metadata": {
    "execution": {
     "iopub.execute_input": "2022-05-17T20:30:51.338622Z",
     "iopub.status.busy": "2022-05-17T20:30:51.337620Z",
     "iopub.status.idle": "2022-05-17T20:30:51.479618Z",
     "shell.execute_reply": "2022-05-17T20:30:51.479618Z",
     "shell.execute_reply.started": "2022-05-17T20:30:51.338622Z"
    },
    "tags": []
   },
   "outputs": [],
   "source": [
    "model = AE\n",
    "f1_scores = {}\n",
    "ae_trainer = AETrainer([x, y], model, regularization=False)"
   ]
  },
  {
   "cell_type": "markdown",
   "id": "41b67482-4d3a-4dc7-8f09-b4a008090091",
   "metadata": {},
   "source": [
    "### Undercompleted Autoencoder"
   ]
  },
  {
   "cell_type": "code",
   "execution_count": 8,
   "id": "2c06a4d4-2837-4d01-8175-26f7d25a38cb",
   "metadata": {
    "execution": {
     "iopub.execute_input": "2022-05-17T20:30:51.480628Z",
     "iopub.status.busy": "2022-05-17T20:30:51.480628Z",
     "iopub.status.idle": "2022-05-17T20:36:37.877956Z",
     "shell.execute_reply": "2022-05-17T20:36:37.877956Z",
     "shell.execute_reply.started": "2022-05-17T20:30:51.480628Z"
    },
    "tags": []
   },
   "outputs": [
    {
     "name": "stdout",
     "output_type": "stream",
     "text": [
      "epoch 0 train_loss: 0.06730160997372812 test_loss: 0.06695370376110077\n",
      "epoch 20 train_loss: 0.042000258918357104 test_loss: 0.04124399274587631\n",
      "epoch 40 train_loss: 0.016791969471800644 test_loss: 0.016344763338565826\n",
      "epoch 60 train_loss: 0.00487252089928473 test_loss: 0.004707575310021639\n",
      "epoch 80 train_loss: 0.0011052531540492732 test_loss: 0.001062961877323687\n",
      "epoch 100 train_loss: 0.00021619631671109774 test_loss: 0.0002076866221614182\n",
      "epoch 120 train_loss: 3.916889891598633e-05 test_loss: 3.794041549554095e-05\n",
      "epoch 140 train_loss: 7.07174494167284e-06 test_loss: 7.1969179771258496e-06\n",
      "epoch 160 train_loss: 1.4824232832035173e-06 test_loss: 1.8271747421749751e-06\n",
      "epoch 180 train_loss: 4.737873598816676e-07 test_loss: 8.352795362043253e-07\n",
      "epoch 200 train_loss: 2.528476224383103e-07 test_loss: 5.97795633439091e-07\n",
      "epoch 220 train_loss: 1.8219267273223952e-07 test_loss: 5.053749987382616e-07\n",
      "epoch 240 train_loss: 1.489255736076411e-07 test_loss: 4.4989820935370517e-07\n",
      "epoch 260 train_loss: 1.2869981459705457e-07 test_loss: 4.083699707280175e-07\n",
      "epoch 280 train_loss: 1.1413753237725329e-07 test_loss: 3.733315736553777e-07\n",
      "epoch 300 train_loss: 1.0258854095034579e-07 test_loss: 3.4229188372592034e-07\n",
      "epoch 320 train_loss: 9.284705323553018e-08 test_loss: 3.139753061986994e-07\n"
     ]
    }
   ],
   "source": [
    "ae_trainer.train(train_epochs=321, batch_size=512, verbose_time=20, lr=1e-6)"
   ]
  },
  {
   "cell_type": "code",
   "execution_count": 110,
   "id": "0352c846-7046-4046-8224-2c5dd9747bbf",
   "metadata": {
    "execution": {
     "iopub.execute_input": "2022-05-17T22:39:02.180576Z",
     "iopub.status.busy": "2022-05-17T22:39:02.180576Z",
     "iopub.status.idle": "2022-05-17T22:39:02.184589Z",
     "shell.execute_reply": "2022-05-17T22:39:02.184589Z",
     "shell.execute_reply.started": "2022-05-17T22:39:02.180576Z"
    },
    "tags": []
   },
   "outputs": [],
   "source": [
    "(filled_x_train, y_train), (filled_x_test, y_test)  = ae_trainer.fill_data()"
   ]
  },
  {
   "cell_type": "code",
   "execution_count": 111,
   "id": "6555c73b-5843-4adb-8784-7cebd38b7ebb",
   "metadata": {
    "execution": {
     "iopub.execute_input": "2022-05-17T22:39:02.499592Z",
     "iopub.status.busy": "2022-05-17T22:39:02.499592Z",
     "iopub.status.idle": "2022-05-17T22:39:02.696568Z",
     "shell.execute_reply": "2022-05-17T22:39:02.695563Z",
     "shell.execute_reply.started": "2022-05-17T22:39:02.499592Z"
    },
    "tags": []
   },
   "outputs": [],
   "source": [
    "all_data = np.vstack([filled_x_train.cpu(), filled_x_test.cpu()])"
   ]
  },
  {
   "cell_type": "code",
   "execution_count": 112,
   "id": "65cc7a00-c1bc-47a4-ad11-f96ab4853c46",
   "metadata": {
    "execution": {
     "iopub.execute_input": "2022-05-17T22:39:02.983471Z",
     "iopub.status.busy": "2022-05-17T22:39:02.983471Z",
     "iopub.status.idle": "2022-05-17T22:39:07.420464Z",
     "shell.execute_reply": "2022-05-17T22:39:07.419461Z",
     "shell.execute_reply.started": "2022-05-17T22:39:02.983471Z"
    },
    "tags": []
   },
   "outputs": [
    {
     "data": {
      "text/plain": [
       "PCA(n_components=100)"
      ]
     },
     "execution_count": 112,
     "metadata": {},
     "output_type": "execute_result"
    }
   ],
   "source": [
    "pca = PCA(n_components=100)\n",
    "pca.fit(all_data)"
   ]
  },
  {
   "cell_type": "code",
   "execution_count": 113,
   "id": "ed72de41-47c9-45de-a095-f1f34cb708e8",
   "metadata": {
    "execution": {
     "iopub.execute_input": "2022-05-17T22:39:07.422472Z",
     "iopub.status.busy": "2022-05-17T22:39:07.421469Z",
     "iopub.status.idle": "2022-05-17T22:39:07.531460Z",
     "shell.execute_reply": "2022-05-17T22:39:07.531460Z",
     "shell.execute_reply.started": "2022-05-17T22:39:07.422472Z"
    },
    "tags": []
   },
   "outputs": [
    {
     "data": {
      "text/plain": [
       "Text(0, 0.5, 'Variance')"
      ]
     },
     "execution_count": 113,
     "metadata": {},
     "output_type": "execute_result"
    },
    {
     "data": {
      "image/png": "[encoded data removed]",
      "text/plain": [
       "<Figure size 432x288 with 1 Axes>"
      ]
     },
     "metadata": {
      "needs_background": "light"
     },
     "output_type": "display_data"
    }
   ],
   "source": [
    "plt.plot(np.arange(1, 101)[:5], pca.explained_variance_[:5])\n",
    "plt.xlabel('Components')\n",
    "plt.ylabel('Variance')"
   ]
  },
  {
   "cell_type": "code",
   "execution_count": 117,
   "id": "c7944978-dc3e-4829-ba1b-db369a85b589",
   "metadata": {
    "execution": {
     "iopub.execute_input": "2022-05-17T22:40:05.251228Z",
     "iopub.status.busy": "2022-05-17T22:40:05.251228Z",
     "iopub.status.idle": "2022-05-17T22:40:05.269228Z",
     "shell.execute_reply": "2022-05-17T22:40:05.268224Z",
     "shell.execute_reply.started": "2022-05-17T22:40:05.251228Z"
    },
    "tags": []
   },
   "outputs": [
    {
     "data": {
      "text/plain": [
       "1.7047553760298082e-05"
      ]
     },
     "execution_count": 117,
     "metadata": {},
     "output_type": "execute_result"
    }
   ],
   "source": [
    "sum(pca.explained_variance_[:5])"
   ]
  },
  {
   "cell_type": "code",
   "execution_count": 13,
   "id": "7065846a-dda7-48d4-95e8-8bb15125077f",
   "metadata": {
    "execution": {
     "iopub.execute_input": "2022-05-17T20:36:39.792181Z",
     "iopub.status.busy": "2022-05-17T20:36:39.792158Z",
     "iopub.status.idle": "2022-05-17T20:36:55.509791Z",
     "shell.execute_reply": "2022-05-17T20:36:55.509791Z",
     "shell.execute_reply.started": "2022-05-17T20:36:39.792181Z"
    },
    "tags": []
   },
   "outputs": [],
   "source": [
    "lda = LDA(n_components=1)\n",
    "all_data_2d = lda.fit_transform(all_data, np.hstack([y_train, y_test]))"
   ]
  },
  {
   "cell_type": "code",
   "execution_count": 14,
   "id": "cf2232d2-3707-4c8e-8884-0c860a522e21",
   "metadata": {
    "execution": {
     "iopub.execute_input": "2022-05-17T20:36:55.511799Z",
     "iopub.status.busy": "2022-05-17T20:36:55.510798Z",
     "iopub.status.idle": "2022-05-17T20:36:55.907356Z",
     "shell.execute_reply": "2022-05-17T20:36:55.906354Z",
     "shell.execute_reply.started": "2022-05-17T20:36:55.511799Z"
    },
    "tags": []
   },
   "outputs": [
    {
     "data": {
      "text/plain": [
       "Text(0.5, 1.0, 'Data LDA')"
      ]
     },
     "execution_count": 14,
     "metadata": {},
     "output_type": "execute_result"
    },
    {
     "data": {
      "image/png": "[encoded data removed]",
      "text/plain": [
       "<Figure size 432x288 with 1 Axes>"
      ]
     },
     "metadata": {
      "needs_background": "light"
     },
     "output_type": "display_data"
    }
   ],
   "source": [
    "plt.scatter(all_data_2d, np.repeat(1, len(all_data_2d)))\n",
    "plt.xlabel('LDA component 1')\n",
    "plt.title('Data LDA')"
   ]
  },
  {
   "cell_type": "code",
   "execution_count": 15,
   "id": "40ac8d34-328b-4458-9c61-fe58bad10273",
   "metadata": {
    "execution": {
     "iopub.execute_input": "2022-05-17T20:36:55.908358Z",
     "iopub.status.busy": "2022-05-17T20:36:55.908358Z",
     "iopub.status.idle": "2022-05-17T20:36:57.088031Z",
     "shell.execute_reply": "2022-05-17T20:36:57.088031Z",
     "shell.execute_reply.started": "2022-05-17T20:36:55.908358Z"
    },
    "tags": []
   },
   "outputs": [
    {
     "data": {
      "text/plain": [
       "PassiveAggressiveClassifier()"
      ]
     },
     "execution_count": 15,
     "metadata": {},
     "output_type": "execute_result"
    }
   ],
   "source": [
    "clf = PassiveAggressiveClassifier()\n",
    "clf.fit(filled_x_train.cpu(), y_train)"
   ]
  },
  {
   "cell_type": "code",
   "execution_count": 16,
   "id": "623758d4-1126-44e5-b260-3acfd6efc4fe",
   "metadata": {
    "execution": {
     "iopub.execute_input": "2022-05-17T20:36:57.090041Z",
     "iopub.status.busy": "2022-05-17T20:36:57.089036Z",
     "iopub.status.idle": "2022-05-17T20:36:57.183243Z",
     "shell.execute_reply": "2022-05-17T20:36:57.182254Z",
     "shell.execute_reply.started": "2022-05-17T20:36:57.090041Z"
    },
    "tags": []
   },
   "outputs": [],
   "source": [
    "f1_scores['AE'] = f1_score(clf.predict(filled_x_test.cpu()), y_test, average='macro')"
   ]
  },
  {
   "cell_type": "markdown",
   "id": "20cf2d32-ef82-45e1-95a8-f265916c7d20",
   "metadata": {},
   "source": [
    "### Regularized Autoencoder"
   ]
  },
  {
   "cell_type": "code",
   "execution_count": 17,
   "id": "e560154b-8101-4697-a628-735c847ee7c9",
   "metadata": {
    "execution": {
     "iopub.execute_input": "2022-05-17T20:36:57.184231Z",
     "iopub.status.busy": "2022-05-17T20:36:57.184231Z",
     "iopub.status.idle": "2022-05-17T20:36:57.245224Z",
     "shell.execute_reply": "2022-05-17T20:36:57.244220Z",
     "shell.execute_reply.started": "2022-05-17T20:36:57.184231Z"
    },
    "tags": []
   },
   "outputs": [],
   "source": [
    "ae_trainer_reg = AETrainer([x,y], model, regularization=True)"
   ]
  },
  {
   "cell_type": "code",
   "execution_count": 18,
   "id": "02fa4f1c-412b-41e3-801e-7cbfaa556fcb",
   "metadata": {
    "execution": {
     "iopub.execute_input": "2022-05-17T20:36:57.248225Z",
     "iopub.status.busy": "2022-05-17T20:36:57.248225Z",
     "iopub.status.idle": "2022-05-17T20:44:02.883523Z",
     "shell.execute_reply": "2022-05-17T20:44:02.883523Z",
     "shell.execute_reply.started": "2022-05-17T20:36:57.248225Z"
    },
    "tags": []
   },
   "outputs": [
    {
     "name": "stdout",
     "output_type": "stream",
     "text": [
      "epoch 0 train_loss: 0.0675007151357368 test_loss: 0.06714383512735367\n",
      "epoch 20 train_loss: 0.04183971611535655 test_loss: 0.04106121137738228\n",
      "epoch 40 train_loss: 0.016356545830128993 test_loss: 0.015923714265227318\n",
      "epoch 60 train_loss: 0.004709760435914571 test_loss: 0.004552267491817474\n",
      "epoch 80 train_loss: 0.0010912568948182187 test_loss: 0.0010533233871683478\n",
      "epoch 100 train_loss: 0.0003138405719794646 test_loss: 0.0003063335898332298\n",
      "epoch 120 train_loss: 0.000237913353410364 test_loss: 0.00023398433404508978\n",
      "epoch 140 train_loss: 9.632323053665459e-05 test_loss: 9.220717765856534e-05\n",
      "epoch 160 train_loss: 1.7384953669502104e-05 test_loss: 1.664249793975614e-05\n",
      "epoch 180 train_loss: 2.8082151827051493e-06 test_loss: 2.678335931705078e-06\n",
      "epoch 200 train_loss: 3.993162389617556e-07 test_loss: 3.7990764667483745e-07\n",
      "epoch 220 train_loss: 5.520197611900058e-08 test_loss: 5.259525792666864e-08\n",
      "epoch 240 train_loss: 8.883872056876407e-09 test_loss: 8.517214489245362e-09\n",
      "epoch 260 train_loss: 1.940420289541301e-09 test_loss: 1.8763570697188925e-09\n",
      "epoch 280 train_loss: 5.907008188880921e-10 test_loss: 5.756812804236233e-10\n"
     ]
    }
   ],
   "source": [
    "ae_trainer_reg.train(train_epochs=281, batch_size=512, verbose_time=20, lr=1e-6, l1=1e-2)"
   ]
  },
  {
   "cell_type": "code",
   "execution_count": 118,
   "id": "57ca1e0d-a8b3-408d-8cb5-ebfcb5844c39",
   "metadata": {
    "execution": {
     "iopub.execute_input": "2022-05-17T22:40:12.613756Z",
     "iopub.status.busy": "2022-05-17T22:40:12.612763Z",
     "iopub.status.idle": "2022-05-17T22:40:12.625756Z",
     "shell.execute_reply": "2022-05-17T22:40:12.625756Z",
     "shell.execute_reply.started": "2022-05-17T22:40:12.613756Z"
    },
    "tags": []
   },
   "outputs": [],
   "source": [
    "(filled_x_train, y_train), (filled_x_test, y_test)  = ae_trainer_reg.fill_data()"
   ]
  },
  {
   "cell_type": "code",
   "execution_count": 119,
   "id": "8416d2d0-44c7-484d-83b1-06f1fd84390f",
   "metadata": {
    "execution": {
     "iopub.execute_input": "2022-05-17T22:40:12.890510Z",
     "iopub.status.busy": "2022-05-17T22:40:12.890510Z",
     "iopub.status.idle": "2022-05-17T22:40:13.102507Z",
     "shell.execute_reply": "2022-05-17T22:40:13.101514Z",
     "shell.execute_reply.started": "2022-05-17T22:40:12.890510Z"
    },
    "tags": []
   },
   "outputs": [],
   "source": [
    "all_data = np.vstack([filled_x_train.cpu(), filled_x_test.cpu()])"
   ]
  },
  {
   "cell_type": "code",
   "execution_count": 120,
   "id": "66be2368-4c21-48ad-b39b-fb858fc1abaa",
   "metadata": {
    "execution": {
     "iopub.execute_input": "2022-05-17T22:40:13.207833Z",
     "iopub.status.busy": "2022-05-17T22:40:13.207833Z",
     "iopub.status.idle": "2022-05-17T22:40:17.653833Z",
     "shell.execute_reply": "2022-05-17T22:40:17.652840Z",
     "shell.execute_reply.started": "2022-05-17T22:40:13.207833Z"
    },
    "tags": []
   },
   "outputs": [
    {
     "data": {
      "text/plain": [
       "PCA(n_components=100)"
      ]
     },
     "execution_count": 120,
     "metadata": {},
     "output_type": "execute_result"
    }
   ],
   "source": [
    "pca = PCA(n_components=100)\n",
    "pca.fit(all_data)"
   ]
  },
  {
   "cell_type": "code",
   "execution_count": 121,
   "id": "eadc10c0-3ef1-47cb-ac9b-aef6a154efee",
   "metadata": {
    "execution": {
     "iopub.execute_input": "2022-05-17T22:40:17.654822Z",
     "iopub.status.busy": "2022-05-17T22:40:17.654822Z",
     "iopub.status.idle": "2022-05-17T22:40:17.780824Z",
     "shell.execute_reply": "2022-05-17T22:40:17.779819Z",
     "shell.execute_reply.started": "2022-05-17T22:40:17.654822Z"
    },
    "tags": []
   },
   "outputs": [
    {
     "data": {
      "text/plain": [
       "Text(0, 0.5, 'Variance')"
      ]
     },
     "execution_count": 121,
     "metadata": {},
     "output_type": "execute_result"
    },
    {
     "data": {
      "image/png": "[encoded data removed]",
      "text/plain": [
       "<Figure size 432x288 with 1 Axes>"
      ]
     },
     "metadata": {
      "needs_background": "light"
     },
     "output_type": "display_data"
    }
   ],
   "source": [
    "plt.plot(np.arange(1, 101)[:5], pca.explained_variance_[:5])\n",
    "plt.xlabel('Components')\n",
    "plt.ylabel('Variance')"
   ]
  },
  {
   "cell_type": "code",
   "execution_count": 122,
   "id": "f0a33733-cd55-4b1b-85bf-c65bc6b45115",
   "metadata": {
    "execution": {
     "iopub.execute_input": "2022-05-17T22:40:19.638270Z",
     "iopub.status.busy": "2022-05-17T22:40:19.637271Z",
     "iopub.status.idle": "2022-05-17T22:40:19.644277Z",
     "shell.execute_reply": "2022-05-17T22:40:19.644277Z",
     "shell.execute_reply.started": "2022-05-17T22:40:19.638270Z"
    }
   },
   "outputs": [
    {
     "data": {
      "text/plain": [
       "8.261180323829365e-13"
      ]
     },
     "execution_count": 122,
     "metadata": {},
     "output_type": "execute_result"
    }
   ],
   "source": [
    "sum(pca.explained_variance_[:5])"
   ]
  },
  {
   "cell_type": "code",
   "execution_count": 23,
   "id": "1e259001-4ace-4f7e-9c32-0d9df300511f",
   "metadata": {
    "execution": {
     "iopub.execute_input": "2022-05-17T20:44:04.817679Z",
     "iopub.status.busy": "2022-05-17T20:44:04.817679Z",
     "iopub.status.idle": "2022-05-17T20:44:20.451648Z",
     "shell.execute_reply": "2022-05-17T20:44:20.450654Z",
     "shell.execute_reply.started": "2022-05-17T20:44:04.817679Z"
    },
    "tags": []
   },
   "outputs": [],
   "source": [
    "lda = LDA(n_components=1)\n",
    "all_data_2d = lda.fit_transform(all_data, np.hstack([y_train, y_test]))"
   ]
  },
  {
   "cell_type": "code",
   "execution_count": 24,
   "id": "18a95674-2d48-499e-bacb-7aa797a8143e",
   "metadata": {
    "execution": {
     "iopub.execute_input": "2022-05-17T20:44:20.452638Z",
     "iopub.status.busy": "2022-05-17T20:44:20.452638Z",
     "iopub.status.idle": "2022-05-17T20:44:20.768020Z",
     "shell.execute_reply": "2022-05-17T20:44:20.767016Z",
     "shell.execute_reply.started": "2022-05-17T20:44:20.452638Z"
    },
    "tags": []
   },
   "outputs": [
    {
     "data": {
      "text/plain": [
       "Text(0.5, 1.0, 'Data LDA')"
      ]
     },
     "execution_count": 24,
     "metadata": {},
     "output_type": "execute_result"
    },
    {
     "data": {
      "image/png": "[encoded data removed]",
      "text/plain": [
       "<Figure size 432x288 with 1 Axes>"
      ]
     },
     "metadata": {
      "needs_background": "light"
     },
     "output_type": "display_data"
    }
   ],
   "source": [
    "plt.scatter(all_data_2d, np.repeat(1, len(all_data_2d)))\n",
    "plt.xlabel('LDA component 1')\n",
    "plt.title('Data LDA')"
   ]
  },
  {
   "cell_type": "code",
   "execution_count": 25,
   "id": "b83b3b61-f8ec-4219-bbc5-847abff198fa",
   "metadata": {
    "execution": {
     "iopub.execute_input": "2022-05-17T20:44:20.769023Z",
     "iopub.status.busy": "2022-05-17T20:44:20.768020Z",
     "iopub.status.idle": "2022-05-17T20:44:21.771540Z",
     "shell.execute_reply": "2022-05-17T20:44:21.771540Z",
     "shell.execute_reply.started": "2022-05-17T20:44:20.769023Z"
    },
    "tags": []
   },
   "outputs": [
    {
     "data": {
      "text/plain": [
       "PassiveAggressiveClassifier()"
      ]
     },
     "execution_count": 25,
     "metadata": {},
     "output_type": "execute_result"
    }
   ],
   "source": [
    "clf = PassiveAggressiveClassifier()\n",
    "clf.fit(filled_x_train.cpu(), y_train)"
   ]
  },
  {
   "cell_type": "code",
   "execution_count": 26,
   "id": "a03b2bd1-9b00-425e-9789-cbb83ece4bf3",
   "metadata": {
    "execution": {
     "iopub.execute_input": "2022-05-17T20:44:21.772504Z",
     "iopub.status.busy": "2022-05-17T20:44:21.772504Z",
     "iopub.status.idle": "2022-05-17T20:44:21.866404Z",
     "shell.execute_reply": "2022-05-17T20:44:21.865392Z",
     "shell.execute_reply.started": "2022-05-17T20:44:21.772504Z"
    },
    "tags": []
   },
   "outputs": [],
   "source": [
    "f1_scores['RegAE'] = f1_score(clf.predict(filled_x_test.cpu()), y_test, average='macro')"
   ]
  },
  {
   "cell_type": "markdown",
   "id": "2e19fd9b-2cb8-4aeb-94a8-d0c018b8bf29",
   "metadata": {},
   "source": [
    "### Variational Autoencoder"
   ]
  },
  {
   "cell_type": "code",
   "execution_count": 27,
   "id": "96239239-de5d-44cd-9342-415e73218b9c",
   "metadata": {
    "execution": {
     "iopub.execute_input": "2022-05-17T20:44:21.867387Z",
     "iopub.status.busy": "2022-05-17T20:44:21.866404Z",
     "iopub.status.idle": "2022-05-17T20:44:21.930389Z",
     "shell.execute_reply": "2022-05-17T20:44:21.929380Z",
     "shell.execute_reply.started": "2022-05-17T20:44:21.867387Z"
    },
    "tags": []
   },
   "outputs": [],
   "source": [
    "vae_model = VAE\n",
    "\n",
    "vae_trainer = VAETrainer([x,y], vae_model)"
   ]
  },
  {
   "cell_type": "code",
   "execution_count": 28,
   "id": "090469b1-8b18-46a9-ace0-881ce8fd6def",
   "metadata": {
    "execution": {
     "iopub.execute_input": "2022-05-17T20:44:21.931393Z",
     "iopub.status.busy": "2022-05-17T20:44:21.931393Z",
     "iopub.status.idle": "2022-05-17T20:52:42.421913Z",
     "shell.execute_reply": "2022-05-17T20:52:42.421913Z",
     "shell.execute_reply.started": "2022-05-17T20:44:21.931393Z"
    },
    "tags": []
   },
   "outputs": [
    {
     "name": "stdout",
     "output_type": "stream",
     "text": [
      "epoch 0 train_loss: 0.00186153774384607 test_loss: 0.0018764460692182183\n",
      "epoch 20 train_loss: 0.0005848132389642925 test_loss: 0.0005689678946509957\n",
      "epoch 40 train_loss: 0.00016808404956287004 test_loss: 0.00016217837401200086\n",
      "epoch 60 train_loss: 3.607705868682742e-05 test_loss: 3.425503018661402e-05\n",
      "epoch 80 train_loss: 6.023855779359408e-06 test_loss: 5.743021574744489e-06\n",
      "epoch 100 train_loss: 1.0903924562244033e-06 test_loss: 1.0251487765344791e-06\n",
      "epoch 120 train_loss: 3.2569725386687284e-07 test_loss: 3.2188219734052836e-07\n",
      "epoch 140 train_loss: 1.458166159813934e-07 test_loss: 1.5605476733071555e-07\n",
      "epoch 160 train_loss: 8.01171611894438e-08 test_loss: 7.96840211592098e-08\n",
      "epoch 180 train_loss: 5.98050533695667e-08 test_loss: 5.4255608006315015e-08\n",
      "epoch 200 train_loss: 3.210071429129346e-08 test_loss: 5.2659355986861556e-08\n",
      "epoch 220 train_loss: 2.5538317138810478e-08 test_loss: 5.537119562859516e-08\n"
     ]
    }
   ],
   "source": [
    "vae_trainer.train(train_epochs=221, batch_size=512, verbose_time=20, lr=1e-6)"
   ]
  },
  {
   "cell_type": "code",
   "execution_count": 123,
   "id": "3ae767f8-af6c-4d20-8b9e-f4011f36ba8a",
   "metadata": {
    "execution": {
     "iopub.execute_input": "2022-05-17T22:40:35.734472Z",
     "iopub.status.busy": "2022-05-17T22:40:35.733461Z",
     "iopub.status.idle": "2022-05-17T22:40:36.039464Z",
     "shell.execute_reply": "2022-05-17T22:40:36.038468Z",
     "shell.execute_reply.started": "2022-05-17T22:40:35.734472Z"
    },
    "tags": []
   },
   "outputs": [],
   "source": [
    "(filled_x_train, y_train), (filled_x_test, y_test)  = vae_trainer.fill_data()"
   ]
  },
  {
   "cell_type": "code",
   "execution_count": 124,
   "id": "5f54b86a-f68a-4713-95a6-38fca35ce340",
   "metadata": {
    "execution": {
     "iopub.execute_input": "2022-05-17T22:40:36.040474Z",
     "iopub.status.busy": "2022-05-17T22:40:36.040474Z",
     "iopub.status.idle": "2022-05-17T22:40:36.244460Z",
     "shell.execute_reply": "2022-05-17T22:40:36.243471Z",
     "shell.execute_reply.started": "2022-05-17T22:40:36.040474Z"
    },
    "tags": []
   },
   "outputs": [],
   "source": [
    "all_data = np.vstack([filled_x_train.cpu(), filled_x_test.cpu()])"
   ]
  },
  {
   "cell_type": "code",
   "execution_count": 125,
   "id": "779733aa-0c80-4bd1-91c7-6134908db057",
   "metadata": {
    "execution": {
     "iopub.execute_input": "2022-05-17T22:40:36.310712Z",
     "iopub.status.busy": "2022-05-17T22:40:36.309702Z",
     "iopub.status.idle": "2022-05-17T22:40:40.785701Z",
     "shell.execute_reply": "2022-05-17T22:40:40.784697Z",
     "shell.execute_reply.started": "2022-05-17T22:40:36.310712Z"
    },
    "tags": []
   },
   "outputs": [
    {
     "data": {
      "text/plain": [
       "PCA(n_components=100)"
      ]
     },
     "execution_count": 125,
     "metadata": {},
     "output_type": "execute_result"
    }
   ],
   "source": [
    "pca = PCA(n_components=100)\n",
    "pca.fit(all_data)"
   ]
  },
  {
   "cell_type": "code",
   "execution_count": 126,
   "id": "47ccb6c8-6838-4b6b-8017-d8ed9e1b47ba",
   "metadata": {
    "execution": {
     "iopub.execute_input": "2022-05-17T22:40:40.787691Z",
     "iopub.status.busy": "2022-05-17T22:40:40.786704Z",
     "iopub.status.idle": "2022-05-17T22:40:40.897702Z",
     "shell.execute_reply": "2022-05-17T22:40:40.896698Z",
     "shell.execute_reply.started": "2022-05-17T22:40:40.787691Z"
    },
    "tags": []
   },
   "outputs": [
    {
     "data": {
      "text/plain": [
       "Text(0, 0.5, 'Variance')"
      ]
     },
     "execution_count": 126,
     "metadata": {},
     "output_type": "execute_result"
    },
    {
     "data": {
      "image/png": "[encoded data removed]",
      "text/plain": [
       "<Figure size 432x288 with 1 Axes>"
      ]
     },
     "metadata": {
      "needs_background": "light"
     },
     "output_type": "display_data"
    }
   ],
   "source": [
    "plt.plot(np.arange(1, 101)[:5], pca.explained_variance_[:5])\n",
    "plt.xlabel('Components')\n",
    "plt.ylabel('Variance')"
   ]
  },
  {
   "cell_type": "code",
   "execution_count": 127,
   "id": "3b8bbc0d-77b3-470e-863b-e6ce3cd0cce9",
   "metadata": {
    "execution": {
     "iopub.execute_input": "2022-05-17T22:40:44.212543Z",
     "iopub.status.busy": "2022-05-17T22:40:44.211546Z",
     "iopub.status.idle": "2022-05-17T22:40:44.225545Z",
     "shell.execute_reply": "2022-05-17T22:40:44.224544Z",
     "shell.execute_reply.started": "2022-05-17T22:40:44.212543Z"
    }
   },
   "outputs": [
    {
     "data": {
      "text/plain": [
       "0.05006403486372541"
      ]
     },
     "execution_count": 127,
     "metadata": {},
     "output_type": "execute_result"
    }
   ],
   "source": [
    "sum(pca.explained_variance_[:5])"
   ]
  },
  {
   "cell_type": "code",
   "execution_count": 33,
   "id": "4b425446-b75e-4f61-a4e0-d948d19d1600",
   "metadata": {
    "execution": {
     "iopub.execute_input": "2022-05-17T20:52:44.354810Z",
     "iopub.status.busy": "2022-05-17T20:52:44.354810Z",
     "iopub.status.idle": "2022-05-17T20:52:59.939457Z",
     "shell.execute_reply": "2022-05-17T20:52:59.939428Z",
     "shell.execute_reply.started": "2022-05-17T20:52:44.354810Z"
    },
    "tags": []
   },
   "outputs": [],
   "source": [
    "lda = LDA(n_components=1)\n",
    "all_data_2d = lda.fit_transform(all_data, np.hstack([y_train, y_test]))"
   ]
  },
  {
   "cell_type": "code",
   "execution_count": 34,
   "id": "a6729f0c-f5b4-414b-ad55-06dd3c499fe9",
   "metadata": {
    "execution": {
     "iopub.execute_input": "2022-05-17T20:52:59.940445Z",
     "iopub.status.busy": "2022-05-17T20:52:59.940445Z",
     "iopub.status.idle": "2022-05-17T20:53:00.269605Z",
     "shell.execute_reply": "2022-05-17T20:53:00.268416Z",
     "shell.execute_reply.started": "2022-05-17T20:52:59.940445Z"
    },
    "tags": []
   },
   "outputs": [
    {
     "data": {
      "text/plain": [
       "Text(0.5, 1.0, 'Data LDA')"
      ]
     },
     "execution_count": 34,
     "metadata": {},
     "output_type": "execute_result"
    },
    {
     "data": {
      "image/png": "[encoded data removed]",
      "text/plain": [
       "<Figure size 432x288 with 1 Axes>"
      ]
     },
     "metadata": {
      "needs_background": "light"
     },
     "output_type": "display_data"
    }
   ],
   "source": [
    "plt.scatter(all_data_2d, np.repeat(1, len(all_data_2d)))\n",
    "plt.xlabel('LDA component 1')\n",
    "plt.title('Data LDA')"
   ]
  },
  {
   "cell_type": "code",
   "execution_count": 35,
   "id": "1a2f958e-9c03-49c7-af3d-bcf189d35bbf",
   "metadata": {
    "execution": {
     "iopub.execute_input": "2022-05-17T20:53:00.270613Z",
     "iopub.status.busy": "2022-05-17T20:53:00.269605Z",
     "iopub.status.idle": "2022-05-17T20:53:01.273402Z",
     "shell.execute_reply": "2022-05-17T20:53:01.272381Z",
     "shell.execute_reply.started": "2022-05-17T20:53:00.270613Z"
    },
    "tags": []
   },
   "outputs": [
    {
     "data": {
      "text/plain": [
       "PassiveAggressiveClassifier()"
      ]
     },
     "execution_count": 35,
     "metadata": {},
     "output_type": "execute_result"
    }
   ],
   "source": [
    "clf = PassiveAggressiveClassifier()\n",
    "clf.fit(filled_x_train.cpu(), y_train)"
   ]
  },
  {
   "cell_type": "code",
   "execution_count": 36,
   "id": "64a0a926-73f4-4e19-833d-0fb9388efaf4",
   "metadata": {
    "execution": {
     "iopub.execute_input": "2022-05-17T20:53:01.274380Z",
     "iopub.status.busy": "2022-05-17T20:53:01.274380Z",
     "iopub.status.idle": "2022-05-17T20:53:01.364903Z",
     "shell.execute_reply": "2022-05-17T20:53:01.364903Z",
     "shell.execute_reply.started": "2022-05-17T20:53:01.274380Z"
    },
    "tags": []
   },
   "outputs": [],
   "source": [
    "f1_scores['VAE'] = f1_score(clf.predict(filled_x_test.cpu()), y_test, average='macro')"
   ]
  },
  {
   "cell_type": "markdown",
   "id": "d71be987-edbb-4da9-b223-40de39be6602",
   "metadata": {},
   "source": [
    "### Mean/0 filling"
   ]
  },
  {
   "cell_type": "code",
   "execution_count": 37,
   "id": "3fba033d-85d2-49c0-809f-a575f46fecf7",
   "metadata": {
    "execution": {
     "iopub.execute_input": "2022-05-17T20:53:01.365885Z",
     "iopub.status.busy": "2022-05-17T20:53:01.365885Z",
     "iopub.status.idle": "2022-05-17T20:53:02.906506Z",
     "shell.execute_reply": "2022-05-17T20:53:02.905505Z",
     "shell.execute_reply.started": "2022-05-17T20:53:01.365885Z"
    },
    "tags": []
   },
   "outputs": [],
   "source": [
    "df_stat = df.drop('isFraud', axis=1).apply(lambda x: x.fillna(x.mean())) #Fill nans with mean of column\n",
    "df_stat = df_stat.fillna(0) #fill full-nans columns with 0\n",
    "X_train_stat, X_test_stat, y_train_stat, y_test_stat = train_test_split(df_stat, y, test_size=0.2, random_state=43)"
   ]
  },
  {
   "cell_type": "code",
   "execution_count": 38,
   "id": "2512b3ff-8740-4ee3-b3db-b2819f3aeca2",
   "metadata": {
    "execution": {
     "iopub.execute_input": "2022-05-17T20:53:02.907486Z",
     "iopub.status.busy": "2022-05-17T20:53:02.907486Z",
     "iopub.status.idle": "2022-05-17T20:53:05.219827Z",
     "shell.execute_reply": "2022-05-17T20:53:05.219286Z",
     "shell.execute_reply.started": "2022-05-17T20:53:02.907486Z"
    },
    "tags": []
   },
   "outputs": [
    {
     "data": {
      "text/plain": [
       "PassiveAggressiveClassifier()"
      ]
     },
     "execution_count": 38,
     "metadata": {},
     "output_type": "execute_result"
    }
   ],
   "source": [
    "clf = PassiveAggressiveClassifier()\n",
    "clf.fit(MinMaxScaler().fit_transform(X_train_stat), y_train_stat)"
   ]
  },
  {
   "cell_type": "code",
   "execution_count": 39,
   "id": "094a2e87-f78c-4ac9-b38b-94b70997e890",
   "metadata": {
    "execution": {
     "iopub.execute_input": "2022-05-17T20:53:05.220838Z",
     "iopub.status.busy": "2022-05-17T20:53:05.220838Z",
     "iopub.status.idle": "2022-05-17T20:53:05.424396Z",
     "shell.execute_reply": "2022-05-17T20:53:05.423377Z",
     "shell.execute_reply.started": "2022-05-17T20:53:05.220838Z"
    },
    "tags": []
   },
   "outputs": [],
   "source": [
    "f1_scores['Mean/0'] = f1_score(clf.predict(MinMaxScaler().fit_transform(X_test_stat)), y_test_stat, average='macro')"
   ]
  },
  {
   "cell_type": "code",
   "execution_count": 128,
   "id": "8405e029-de9a-4451-a27f-6271dc841679",
   "metadata": {
    "execution": {
     "iopub.execute_input": "2022-05-17T22:40:55.119442Z",
     "iopub.status.busy": "2022-05-17T22:40:55.118437Z",
     "iopub.status.idle": "2022-05-17T22:40:56.014440Z",
     "shell.execute_reply": "2022-05-17T22:40:56.013460Z",
     "shell.execute_reply.started": "2022-05-17T22:40:55.119442Z"
    },
    "tags": []
   },
   "outputs": [],
   "source": [
    "all_data = MinMaxScaler().fit_transform(df_stat)"
   ]
  },
  {
   "cell_type": "code",
   "execution_count": 129,
   "id": "aa6db7f3-30de-45b9-a717-7579fa20c0e1",
   "metadata": {
    "execution": {
     "iopub.execute_input": "2022-05-17T22:40:56.016440Z",
     "iopub.status.busy": "2022-05-17T22:40:56.015433Z",
     "iopub.status.idle": "2022-05-17T22:41:04.710484Z",
     "shell.execute_reply": "2022-05-17T22:41:04.710484Z",
     "shell.execute_reply.started": "2022-05-17T22:40:56.016440Z"
    },
    "tags": []
   },
   "outputs": [
    {
     "data": {
      "text/plain": [
       "PCA(n_components=100)"
      ]
     },
     "execution_count": 129,
     "metadata": {},
     "output_type": "execute_result"
    }
   ],
   "source": [
    "pca = PCA(n_components=100)\n",
    "pca.fit(all_data)"
   ]
  },
  {
   "cell_type": "code",
   "execution_count": 130,
   "id": "395bbfec-5245-44c5-b9f1-0236e2fc36bc",
   "metadata": {
    "execution": {
     "iopub.execute_input": "2022-05-17T22:41:04.711440Z",
     "iopub.status.busy": "2022-05-17T22:41:04.711440Z",
     "iopub.status.idle": "2022-05-17T22:41:04.821430Z",
     "shell.execute_reply": "2022-05-17T22:41:04.821430Z",
     "shell.execute_reply.started": "2022-05-17T22:41:04.711440Z"
    },
    "tags": []
   },
   "outputs": [
    {
     "data": {
      "text/plain": [
       "Text(0, 0.5, 'Variance')"
      ]
     },
     "execution_count": 130,
     "metadata": {},
     "output_type": "execute_result"
    },
    {
     "data": {
      "image/png": "[encoded data removed]",
      "text/plain": [
       "<Figure size 432x288 with 1 Axes>"
      ]
     },
     "metadata": {
      "needs_background": "light"
     },
     "output_type": "display_data"
    }
   ],
   "source": [
    "plt.plot(np.arange(1, 101)[:5], pca.explained_variance_[:5])\n",
    "plt.xlabel('Components')\n",
    "plt.ylabel('Variance')"
   ]
  },
  {
   "cell_type": "code",
   "execution_count": 131,
   "id": "9ff0c380-6890-490c-807c-d5d83b0005d7",
   "metadata": {
    "execution": {
     "iopub.execute_input": "2022-05-17T22:41:07.400739Z",
     "iopub.status.busy": "2022-05-17T22:41:07.399731Z",
     "iopub.status.idle": "2022-05-17T22:41:07.418730Z",
     "shell.execute_reply": "2022-05-17T22:41:07.418730Z",
     "shell.execute_reply.started": "2022-05-17T22:41:07.400739Z"
    }
   },
   "outputs": [
    {
     "data": {
      "text/plain": [
       "2.1153817680544327"
      ]
     },
     "execution_count": 131,
     "metadata": {},
     "output_type": "execute_result"
    }
   ],
   "source": [
    "sum(pca.explained_variance_[:5])"
   ]
  },
  {
   "cell_type": "code",
   "execution_count": 43,
   "id": "cb208589-7e98-449f-ae25-b0eb3b13ee2b",
   "metadata": {
    "execution": {
     "iopub.execute_input": "2022-05-17T20:53:09.267726Z",
     "iopub.status.busy": "2022-05-17T20:53:09.266715Z",
     "iopub.status.idle": "2022-05-17T20:53:23.968711Z",
     "shell.execute_reply": "2022-05-17T20:53:23.967591Z",
     "shell.execute_reply.started": "2022-05-17T20:53:09.267726Z"
    }
   },
   "outputs": [],
   "source": [
    "lda = LDA(n_components=1)\n",
    "all_data_2d = lda.fit_transform(all_data, np.hstack([y_train, y_test]))"
   ]
  },
  {
   "cell_type": "code",
   "execution_count": 44,
   "id": "8eb48d3d-15d3-4f9c-a7ba-5183345e32d5",
   "metadata": {
    "execution": {
     "iopub.execute_input": "2022-05-17T20:53:23.970299Z",
     "iopub.status.busy": "2022-05-17T20:53:23.970299Z",
     "iopub.status.idle": "2022-05-17T20:53:24.284333Z",
     "shell.execute_reply": "2022-05-17T20:53:24.283319Z",
     "shell.execute_reply.started": "2022-05-17T20:53:23.970299Z"
    }
   },
   "outputs": [
    {
     "data": {
      "text/plain": [
       "Text(0.5, 1.0, 'Data LDA')"
      ]
     },
     "execution_count": 44,
     "metadata": {},
     "output_type": "execute_result"
    },
    {
     "data": {
      "image/png": "[encoded data removed]",
      "text/plain": [
       "<Figure size 432x288 with 1 Axes>"
      ]
     },
     "metadata": {
      "needs_background": "light"
     },
     "output_type": "display_data"
    }
   ],
   "source": [
    "plt.scatter(all_data_2d, np.repeat(1, len(all_data_2d)))\n",
    "plt.xlabel('LDA component 1')\n",
    "plt.title('Data LDA')"
   ]
  },
  {
   "cell_type": "markdown",
   "id": "d728a6fb-e7eb-4773-ae64-a2e334788da5",
   "metadata": {},
   "source": [
    "### Performance visualisations"
   ]
  },
  {
   "cell_type": "code",
   "execution_count": 45,
   "id": "2b24b089-63ad-4d5a-93dd-b01b528e86d8",
   "metadata": {
    "execution": {
     "iopub.execute_input": "2022-05-17T20:53:24.285334Z",
     "iopub.status.busy": "2022-05-17T20:53:24.284333Z",
     "iopub.status.idle": "2022-05-17T20:53:24.361761Z",
     "shell.execute_reply": "2022-05-17T20:53:24.361761Z",
     "shell.execute_reply.started": "2022-05-17T20:53:24.285334Z"
    },
    "tags": []
   },
   "outputs": [
    {
     "data": {
      "image/png": "[encoded data removed]",
      "text/plain": [
       "<Figure size 432x288 with 1 Axes>"
      ]
     },
     "metadata": {
      "needs_background": "light"
     },
     "output_type": "display_data"
    }
   ],
   "source": [
    "plt.bar(np.arange(len(f1_scores)), f1_scores.values())\n",
    "plt.xticks(np.arange(len(f1_scores)), f1_scores.keys())\n",
    "plt.ylabel('Average F1')\n",
    "plt.show()"
   ]
  },
  {
   "cell_type": "code",
   "execution_count": 46,
   "id": "aceae9fc-edd7-4d75-828e-440c974f1a42",
   "metadata": {
    "execution": {
     "iopub.execute_input": "2022-05-17T20:53:24.362772Z",
     "iopub.status.busy": "2022-05-17T20:53:24.362772Z",
     "iopub.status.idle": "2022-05-17T20:53:24.457660Z",
     "shell.execute_reply": "2022-05-17T20:53:24.456658Z",
     "shell.execute_reply.started": "2022-05-17T20:53:24.362772Z"
    },
    "tags": []
   },
   "outputs": [
    {
     "data": {
      "image/png": "[encoded data removed]",
      "text/plain": [
       "<Figure size 432x288 with 1 Axes>"
      ]
     },
     "metadata": {
      "needs_background": "light"
     },
     "output_type": "display_data"
    }
   ],
   "source": [
    "X = ['Train Masked MSE','Test Masked MSE']\n",
    "ae_best = np.argmin(ae_trainer.history['test_loss'])\n",
    "ae = [ae_trainer.history['train_loss'][ae_best], ae_trainer.history['test_loss'][ae_best]]\n",
    "\n",
    "ae_reg_best = np.argmin(ae_trainer_reg.history['test_loss'])\n",
    "ae_reg = [ae_trainer_reg.history['train_loss'][ae_reg_best], ae_trainer_reg.history['test_loss'][ae_reg_best]]\n",
    "\n",
    "vae_best = np.argmin(vae_trainer.history['test_loss'])\n",
    "vae = [vae_trainer.history['train_loss'][vae_best], vae_trainer.history['test_loss'][vae_best]]\n",
    "  \n",
    "X_axis = np.arange(len(X))\n",
    "  \n",
    "plt.bar(X_axis - 0.2, ae, 0.1, label = 'AE')\n",
    "plt.bar(X_axis, ae_reg, 0.1, label = 'RegAE')\n",
    "plt.bar(X_axis + 0.2, vae, 0.1, label = 'VAE')\n",
    "\n",
    "plt.xticks(X_axis, X)\n",
    "plt.ylabel(\"MSE\")\n",
    "plt.legend()\n",
    "plt.show()"
   ]
  },
  {
   "cell_type": "markdown",
   "id": "5d52f2cd-1465-4c16-8d76-7de83e4f05f7",
   "metadata": {},
   "source": [
    "# Task 2"
   ]
  },
  {
   "cell_type": "markdown",
   "id": "7c38df06-a382-41da-9ffb-0d4adc0723ed",
   "metadata": {},
   "source": [
    "## Data preprocessing"
   ]
  },
  {
   "cell_type": "markdown",
   "id": "9b8d0e4f-55a6-4179-b359-f5924ba001d4",
   "metadata": {},
   "source": [
    "Maybe it is mistake in files' names, because 'testing' file contains more data than 'training', so we will use 'testing' file for training and 'training' file for testing"
   ]
  },
  {
   "cell_type": "code",
   "execution_count": 47,
   "id": "36aee9fb-c1bf-4d66-8ac6-680d2d7adf3f",
   "metadata": {
    "execution": {
     "iopub.execute_input": "2022-05-17T20:53:24.458696Z",
     "iopub.status.busy": "2022-05-17T20:53:24.458696Z",
     "iopub.status.idle": "2022-05-17T20:53:24.927348Z",
     "shell.execute_reply": "2022-05-17T20:53:24.926359Z",
     "shell.execute_reply.started": "2022-05-17T20:53:24.458696Z"
    },
    "tags": []
   },
   "outputs": [],
   "source": [
    "df2 = pd.read_csv('data/task2/UNSW_NB15_testing-set.csv')"
   ]
  },
  {
   "cell_type": "code",
   "execution_count": 48,
   "id": "309a26d3-dba2-488c-b67c-1a03ea3d8648",
   "metadata": {
    "execution": {
     "iopub.execute_input": "2022-05-17T20:53:24.928355Z",
     "iopub.status.busy": "2022-05-17T20:53:24.928355Z",
     "iopub.status.idle": "2022-05-17T20:53:25.118414Z",
     "shell.execute_reply": "2022-05-17T20:53:25.117412Z",
     "shell.execute_reply.started": "2022-05-17T20:53:24.928355Z"
    },
    "tags": []
   },
   "outputs": [],
   "source": [
    "# Label not digit data\n",
    "labeled_df2 = df2.select_dtypes(exclude=['float64', 'int64', 'int32']).apply(\n",
    "    lambda series: pd.Series(LabelEncoder().fit_transform(series[series.notnull()]), index=series[series.notnull()].index))\n",
    "\n",
    "df2[labeled_df2.columns] = labeled_df2"
   ]
  },
  {
   "cell_type": "code",
   "execution_count": 49,
   "id": "7014edfa-9ccc-4510-8327-7fcbda5022c5",
   "metadata": {
    "execution": {
     "iopub.execute_input": "2022-05-17T20:53:25.119576Z",
     "iopub.status.busy": "2022-05-17T20:53:25.119576Z",
     "iopub.status.idle": "2022-05-17T20:53:26.274784Z",
     "shell.execute_reply": "2022-05-17T20:53:26.273771Z",
     "shell.execute_reply.started": "2022-05-17T20:53:25.119576Z"
    },
    "tags": []
   },
   "outputs": [],
   "source": [
    "# scale data\n",
    "scaleded_df2 = MinMaxScaler().fit_transform(df2.select_dtypes(include=['float64', 'int64', 'int32']))\n",
    "\n",
    "df2[df2.select_dtypes(include=['float64', 'int64', 'int32']).columns] = scaleded_df2"
   ]
  },
  {
   "cell_type": "code",
   "execution_count": 50,
   "id": "94610bae-13f9-4d62-9930-0d2f5e191472",
   "metadata": {
    "execution": {
     "iopub.execute_input": "2022-05-17T20:53:26.276785Z",
     "iopub.status.busy": "2022-05-17T20:53:26.275772Z",
     "iopub.status.idle": "2022-05-17T20:53:26.477146Z",
     "shell.execute_reply": "2022-05-17T20:53:26.476144Z",
     "shell.execute_reply.started": "2022-05-17T20:53:26.276785Z"
    },
    "tags": []
   },
   "outputs": [],
   "source": [
    "# delete zero-columns\n",
    "columns_drop = list(df2.columns[np.where(df2.quantile(0.9)==0)]) + ['id']"
   ]
  },
  {
   "cell_type": "code",
   "execution_count": 51,
   "id": "e7637c66-d524-40a7-90f8-d021d9007782",
   "metadata": {
    "execution": {
     "iopub.execute_input": "2022-05-17T20:53:26.478141Z",
     "iopub.status.busy": "2022-05-17T20:53:26.477146Z",
     "iopub.status.idle": "2022-05-17T20:53:26.492126Z",
     "shell.execute_reply": "2022-05-17T20:53:26.491124Z",
     "shell.execute_reply.started": "2022-05-17T20:53:26.478141Z"
    },
    "tags": []
   },
   "outputs": [],
   "source": [
    "generator = GeneratorModel\n",
    "discriminator = DiscriminatorModel"
   ]
  },
  {
   "cell_type": "code",
   "execution_count": 52,
   "id": "2e970532-b680-4855-a5c9-a28a523d8e6a",
   "metadata": {
    "execution": {
     "iopub.execute_input": "2022-05-17T20:53:26.493131Z",
     "iopub.status.busy": "2022-05-17T20:53:26.492126Z",
     "iopub.status.idle": "2022-05-17T20:53:26.584910Z",
     "shell.execute_reply": "2022-05-17T20:53:26.583901Z",
     "shell.execute_reply.started": "2022-05-17T20:53:26.493131Z"
    },
    "tags": []
   },
   "outputs": [],
   "source": [
    "x2 = torch.torch.from_numpy(df2.drop(columns_drop, axis=1).values)\n",
    "y2 = torch.torch.from_numpy(LabelEncoder().fit_transform(df2['attack_cat']))"
   ]
  },
  {
   "cell_type": "markdown",
   "id": "152c51e6-5e36-4e68-a9f7-f3fed3621457",
   "metadata": {},
   "source": [
    "## Train cGAN"
   ]
  },
  {
   "cell_type": "code",
   "execution_count": 53,
   "id": "9351a68f-62ae-44d9-98dc-5b0fda864b78",
   "metadata": {
    "execution": {
     "iopub.execute_input": "2022-05-17T20:53:26.585899Z",
     "iopub.status.busy": "2022-05-17T20:53:26.585899Z",
     "iopub.status.idle": "2022-05-17T20:53:26.900357Z",
     "shell.execute_reply": "2022-05-17T20:53:26.899012Z",
     "shell.execute_reply.started": "2022-05-17T20:53:26.585899Z"
    },
    "tags": []
   },
   "outputs": [],
   "source": [
    "cgan_trainers = [CGanTrainer([x2, y2], generator, discriminator) for _ in range(3)]"
   ]
  },
  {
   "cell_type": "code",
   "execution_count": 54,
   "id": "a68c96f6-6614-40d2-8ad2-77d9d7623d36",
   "metadata": {
    "execution": {
     "iopub.execute_input": "2022-05-17T20:53:26.904355Z",
     "iopub.status.busy": "2022-05-17T20:53:26.904355Z",
     "iopub.status.idle": "2022-05-17T21:00:36.999475Z",
     "shell.execute_reply": "2022-05-17T21:00:36.999475Z",
     "shell.execute_reply.started": "2022-05-17T20:53:26.904355Z"
    },
    "tags": []
   },
   "outputs": [
    {
     "name": "stdout",
     "output_type": "stream",
     "text": [
      "0 CGAN\n",
      "[0/3000]: loss_d: 0.691, loss_g: 0.681, kl: 2.673\n",
      "[200/3000]: loss_d: 0.378, loss_g: 1.847, kl: 0.203\n",
      "[400/3000]: loss_d: 0.347, loss_g: 2.379, kl: 0.214\n",
      "[600/3000]: loss_d: 0.368, loss_g: 1.914, kl: 0.201\n",
      "[800/3000]: loss_d: 0.429, loss_g: 2.102, kl: 0.219\n",
      "[1000/3000]: loss_d: 0.338, loss_g: 2.521, kl: 0.206\n",
      "[1200/3000]: loss_d: 0.285, loss_g: 2.505, kl: 0.174\n",
      "[1400/3000]: loss_d: 0.364, loss_g: 2.241, kl: 0.160\n",
      "[1600/3000]: loss_d: 0.408, loss_g: 1.912, kl: 0.149\n",
      "[1800/3000]: loss_d: 0.347, loss_g: 2.145, kl: 0.157\n",
      "[2000/3000]: loss_d: 0.332, loss_g: 2.134, kl: 0.170\n",
      "[2200/3000]: loss_d: 0.420, loss_g: 2.019, kl: 0.156\n",
      "[2400/3000]: loss_d: 0.415, loss_g: 2.034, kl: 0.167\n",
      "[2600/3000]: loss_d: 0.399, loss_g: 2.215, kl: 0.169\n",
      "[2800/3000]: loss_d: 0.345, loss_g: 2.502, kl: 0.155\n",
      "1 CGAN\n",
      "[0/3000]: loss_d: 0.692, loss_g: 0.759, kl: 2.605\n",
      "[200/3000]: loss_d: 0.569, loss_g: 1.911, kl: 0.250\n",
      "[400/3000]: loss_d: 0.198, loss_g: 3.167, kl: 0.255\n",
      "[600/3000]: loss_d: 0.642, loss_g: 2.638, kl: 0.220\n",
      "[800/3000]: loss_d: 0.257, loss_g: 3.069, kl: 0.229\n",
      "[1000/3000]: loss_d: 0.167, loss_g: 3.464, kl: 0.222\n",
      "[1200/3000]: loss_d: 0.445, loss_g: 2.048, kl: 0.211\n",
      "[1400/3000]: loss_d: 0.275, loss_g: 2.706, kl: 0.172\n",
      "[1600/3000]: loss_d: 0.326, loss_g: 2.474, kl: 0.172\n",
      "[1800/3000]: loss_d: 0.365, loss_g: 1.912, kl: 0.159\n",
      "[2000/3000]: loss_d: 0.326, loss_g: 2.299, kl: 0.148\n",
      "[2200/3000]: loss_d: 0.369, loss_g: 1.815, kl: 0.135\n",
      "[2400/3000]: loss_d: 0.393, loss_g: 2.125, kl: 0.163\n",
      "[2600/3000]: loss_d: 0.527, loss_g: 1.289, kl: 0.147\n",
      "[2800/3000]: loss_d: 0.547, loss_g: 1.621, kl: 0.179\n",
      "2 CGAN\n",
      "[0/3000]: loss_d: 0.699, loss_g: 0.688, kl: 2.696\n",
      "[200/3000]: loss_d: 0.562, loss_g: 2.076, kl: 0.208\n",
      "[400/3000]: loss_d: 0.274, loss_g: 2.593, kl: 0.224\n",
      "[600/3000]: loss_d: 0.252, loss_g: 2.581, kl: 0.202\n",
      "[800/3000]: loss_d: 0.322, loss_g: 2.511, kl: 0.181\n",
      "[1000/3000]: loss_d: 0.391, loss_g: 2.353, kl: 0.164\n",
      "[1200/3000]: loss_d: 0.375, loss_g: 2.344, kl: 0.160\n",
      "[1400/3000]: loss_d: 0.386, loss_g: 2.041, kl: 0.158\n",
      "[1600/3000]: loss_d: 0.344, loss_g: 2.183, kl: 0.155\n",
      "[1800/3000]: loss_d: 0.375, loss_g: 2.202, kl: 0.134\n",
      "[2000/3000]: loss_d: 0.373, loss_g: 2.193, kl: 0.142\n",
      "[2200/3000]: loss_d: 0.383, loss_g: 1.889, kl: 0.147\n",
      "[2400/3000]: loss_d: 0.409, loss_g: 2.133, kl: 0.160\n",
      "[2600/3000]: loss_d: 0.416, loss_g: 1.962, kl: 0.148\n",
      "[2800/3000]: loss_d: 0.373, loss_g: 1.994, kl: 0.163\n"
     ]
    }
   ],
   "source": [
    "for i, cgan_trainer in enumerate(cgan_trainers):\n",
    "    print(i, 'CGAN')\n",
    "    cgan_trainer.train(train_epoch=3000, batch_size=512, embedding_dim=10, input_dim_g=100, verbose_time=200, gen_updates=2, add_noise=False)"
   ]
  },
  {
   "cell_type": "code",
   "execution_count": 55,
   "id": "b6d7d55f-ac98-4d0d-b00b-04be35452263",
   "metadata": {
    "execution": {
     "iopub.execute_input": "2022-05-17T21:00:37.000420Z",
     "iopub.status.busy": "2022-05-17T21:00:37.000420Z",
     "iopub.status.idle": "2022-05-17T21:00:37.568983Z",
     "shell.execute_reply": "2022-05-17T21:00:37.568983Z",
     "shell.execute_reply.started": "2022-05-17T21:00:37.000420Z"
    },
    "tags": []
   },
   "outputs": [
    {
     "data": {
      "image/png": "[encoded data removed]",
      "text/plain": [
       "<Figure size 432x288 with 1 Axes>"
      ]
     },
     "metadata": {
      "needs_background": "light"
     },
     "output_type": "display_data"
    },
    {
     "data": {
      "image/png": "[encoded data removed]",
      "text/plain": [
       "<Figure size 432x288 with 1 Axes>"
      ]
     },
     "metadata": {
      "needs_background": "light"
     },
     "output_type": "display_data"
    },
    {
     "data": {
      "image/png": "[encoded data removed]",
      "text/plain": [
       "<Figure size 432x288 with 1 Axes>"
      ]
     },
     "metadata": {
      "needs_background": "light"
     },
     "output_type": "display_data"
    }
   ],
   "source": [
    "for i, cgan_trainer in enumerate(cgan_trainers):\n",
    "    fig, ax = plt.subplots()\n",
    "    ax.plot(cgan_trainer.history['loss_d'], label='Discriminator')\n",
    "    ax.plot(cgan_trainer.history['loss_g'], label='Generator')\n",
    "    ax2 = ax.secondary_yaxis(\"right\")\n",
    "    ax.plot(cgan_trainer.history['kl'], label='KL-Divergence')\n",
    "    ax.set_xlabel('epochs')\n",
    "    ax.set_ylabel('loss')\n",
    "    ax2.set_ylabel('kl')\n",
    "    ax.set_title(f\"{i} CGAN\")\n",
    "    plt.legend()\n",
    "    plt.show()"
   ]
  },
  {
   "cell_type": "markdown",
   "id": "79b38dd7-105d-43f0-a2e2-bcf45c314ac2",
   "metadata": {},
   "source": [
    "## Test classifiers"
   ]
  },
  {
   "cell_type": "code",
   "execution_count": 56,
   "id": "320e1491-2311-441f-82a8-931b6ac5d821",
   "metadata": {
    "execution": {
     "iopub.execute_input": "2022-05-17T21:00:37.569946Z",
     "iopub.status.busy": "2022-05-17T21:00:37.569946Z",
     "iopub.status.idle": "2022-05-17T21:00:37.599380Z",
     "shell.execute_reply": "2022-05-17T21:00:37.599380Z",
     "shell.execute_reply.started": "2022-05-17T21:00:37.569946Z"
    },
    "tags": []
   },
   "outputs": [],
   "source": [
    "X_train_df2_raw = df2.drop(columns_drop, axis=1).values\n",
    "y_train_df2_raw = LabelEncoder().fit_transform(df2['attack_cat'])"
   ]
  },
  {
   "cell_type": "markdown",
   "id": "053a825f-4064-40b1-8993-8af19e43849d",
   "metadata": {},
   "source": [
    "### Generate train data"
   ]
  },
  {
   "cell_type": "code",
   "execution_count": 57,
   "id": "8603f910-0cf8-4366-a781-cfdcc5d55d5d",
   "metadata": {
    "execution": {
     "iopub.execute_input": "2022-05-17T21:00:37.601359Z",
     "iopub.status.busy": "2022-05-17T21:00:37.601359Z",
     "iopub.status.idle": "2022-05-17T21:00:37.676524Z",
     "shell.execute_reply": "2022-05-17T21:00:37.676524Z",
     "shell.execute_reply.started": "2022-05-17T21:00:37.601359Z"
    },
    "tags": []
   },
   "outputs": [],
   "source": [
    "X_train_df2s = [df2.drop(columns_drop, axis=1).values for _ in range(3)]\n",
    "y_train_df2s = [LabelEncoder().fit_transform(df2['attack_cat']) for _ in range(3)]"
   ]
  },
  {
   "cell_type": "code",
   "execution_count": 58,
   "id": "48876473-2626-436a-8de5-b415c1d20aaf",
   "metadata": {
    "execution": {
     "iopub.execute_input": "2022-05-17T21:00:37.678507Z",
     "iopub.status.busy": "2022-05-17T21:00:37.678507Z",
     "iopub.status.idle": "2022-05-17T21:00:37.693535Z",
     "shell.execute_reply": "2022-05-17T21:00:37.692542Z",
     "shell.execute_reply.started": "2022-05-17T21:00:37.678507Z"
    },
    "tags": []
   },
   "outputs": [],
   "source": [
    "samp_per_lab = 10000 #samples per class for speed up learning"
   ]
  },
  {
   "cell_type": "code",
   "execution_count": 59,
   "id": "11c9b1ff-b666-44fb-84bc-90304907e8e2",
   "metadata": {
    "execution": {
     "iopub.execute_input": "2022-05-17T21:00:37.695541Z",
     "iopub.status.busy": "2022-05-17T21:00:37.694544Z",
     "iopub.status.idle": "2022-05-17T21:00:37.708686Z",
     "shell.execute_reply": "2022-05-17T21:00:37.708686Z",
     "shell.execute_reply.started": "2022-05-17T21:00:37.695541Z"
    },
    "tags": []
   },
   "outputs": [],
   "source": [
    "max_samp = max([np.where(y_train_df2s[0]==i)[0].shape[0] for i in range(10)])"
   ]
  },
  {
   "cell_type": "code",
   "execution_count": 60,
   "id": "de1c5484-2aa4-48a5-b1f2-648ecb7882c9",
   "metadata": {
    "execution": {
     "iopub.execute_input": "2022-05-17T21:00:37.710655Z",
     "iopub.status.busy": "2022-05-17T21:00:37.710655Z",
     "iopub.status.idle": "2022-05-17T21:00:39.230741Z",
     "shell.execute_reply": "2022-05-17T21:00:39.230741Z",
     "shell.execute_reply.started": "2022-05-17T21:00:37.710655Z"
    },
    "tags": []
   },
   "outputs": [],
   "source": [
    "# gen data\n",
    "cgans_data = []\n",
    "for cgan_trainer in cgan_trainers:\n",
    "    generated_data = {}\n",
    "    for i in range(10):\n",
    "        size = max_samp - np.where(y_train_df2s[0]==i)[0].shape[0]\n",
    "        data = cgan_trainer.generate_data(i, size)\n",
    "        generated_data[i] = data\n",
    "    cgans_data.append(generated_data)"
   ]
  },
  {
   "cell_type": "code",
   "execution_count": 61,
   "id": "5f8f8bd1-e26f-4ea4-af71-37564a9880ca",
   "metadata": {
    "execution": {
     "iopub.execute_input": "2022-05-17T21:00:39.232741Z",
     "iopub.status.busy": "2022-05-17T21:00:39.232741Z",
     "iopub.status.idle": "2022-05-17T21:00:43.321894Z",
     "shell.execute_reply": "2022-05-17T21:00:43.320882Z",
     "shell.execute_reply.started": "2022-05-17T21:00:39.232741Z"
    },
    "tags": []
   },
   "outputs": [],
   "source": [
    "# add generared data and clip real data\n",
    "for j in range(3):\n",
    "    for i in cgans_data[j]:\n",
    "        if np.where(y_train_df2s[j]==i)[0].shape[0] < samp_per_lab:\n",
    "            arr = np.array(cgans_data[j][i].tolist())[:samp_per_lab - np.where(y_train_df2s[j]==i)[0].shape[0]]\n",
    "            label = np.repeat(i, arr.shape[0])\n",
    "            X_train_df2s[j] = np.vstack([X_train_df2s[j], arr])\n",
    "            y_train_df2s[j] = np.hstack([y_train_df2s[j], label])\n",
    "        else:\n",
    "            rand_ids = np.random.choice(np.where(y_train_df2s[j]==i)[0], len(np.where(y_train_df2s[j]==i)[0]) - samp_per_lab, replace=False)\n",
    "            X_train_df2s[j] = np.delete(X_train_df2s[j], rand_ids, axis=0)\n",
    "            y_train_df2s[j] = np.delete(y_train_df2s[j], rand_ids, axis=0)"
   ]
  },
  {
   "cell_type": "code",
   "execution_count": 62,
   "id": "09381475-3ce1-4e36-bc3f-9a7baf7215b0",
   "metadata": {
    "execution": {
     "iopub.execute_input": "2022-05-17T21:00:43.322908Z",
     "iopub.status.busy": "2022-05-17T21:00:43.322908Z",
     "iopub.status.idle": "2022-05-17T21:00:43.336916Z",
     "shell.execute_reply": "2022-05-17T21:00:43.335914Z",
     "shell.execute_reply.started": "2022-05-17T21:00:43.322908Z"
    },
    "tags": []
   },
   "outputs": [],
   "source": [
    "# shuffle\n",
    "for j in range(3):\n",
    "    shuf_ids = np.random.shuffle(np.arange(len(y_train_df2s[j])))\n",
    "    X_train_df2s[j] = X_train_df2s[j][shuf_ids]\n",
    "    y_train_df2s[j] = y_train_df2s[j][shuf_ids]\n",
    "\n",
    "    X_train_df2s[j] = X_train_df2s[j].squeeze()\n",
    "    y_train_df2s[j] = y_train_df2s[j].squeeze()"
   ]
  },
  {
   "cell_type": "markdown",
   "id": "acfc1122-afca-4cdb-a57f-ad08256e97a4",
   "metadata": {},
   "source": [
    "### Test data preprocessing"
   ]
  },
  {
   "cell_type": "code",
   "execution_count": 63,
   "id": "7aa3a861-0b9d-43ad-a1c4-d4595aaac027",
   "metadata": {
    "execution": {
     "iopub.execute_input": "2022-05-17T21:00:43.337964Z",
     "iopub.status.busy": "2022-05-17T21:00:43.337964Z",
     "iopub.status.idle": "2022-05-17T21:00:43.587402Z",
     "shell.execute_reply": "2022-05-17T21:00:43.587402Z",
     "shell.execute_reply.started": "2022-05-17T21:00:43.337964Z"
    },
    "tags": []
   },
   "outputs": [],
   "source": [
    "X_test_df2 = pd.read_csv('data/task2/UNSW_NB15_training-set.csv')"
   ]
  },
  {
   "cell_type": "code",
   "execution_count": 64,
   "id": "a2293286-7915-4356-8536-5debc2fc2b91",
   "metadata": {
    "execution": {
     "iopub.execute_input": "2022-05-17T21:00:43.588426Z",
     "iopub.status.busy": "2022-05-17T21:00:43.588426Z",
     "iopub.status.idle": "2022-05-17T21:00:43.682071Z",
     "shell.execute_reply": "2022-05-17T21:00:43.682071Z",
     "shell.execute_reply.started": "2022-05-17T21:00:43.588426Z"
    },
    "tags": []
   },
   "outputs": [],
   "source": [
    "# label not digit data\n",
    "test_labeled_df2 = X_test_df2.select_dtypes(exclude=['float64', 'int64', 'int32']).apply(\n",
    "    lambda series: pd.Series(LabelEncoder().fit_transform(series[series.notnull()]), index=series[series.notnull()].index))\n",
    "\n",
    "X_test_df2[test_labeled_df2.columns] = test_labeled_df2\n",
    "y_test_df2 = LabelEncoder().fit_transform(X_test_df2['attack_cat'].values)"
   ]
  },
  {
   "cell_type": "code",
   "execution_count": 65,
   "id": "cde67e5b-07ca-4ef5-84a1-72aa39e0ef8a",
   "metadata": {
    "execution": {
     "iopub.execute_input": "2022-05-17T21:00:43.684057Z",
     "iopub.status.busy": "2022-05-17T21:00:43.684057Z",
     "iopub.status.idle": "2022-05-17T21:00:44.246600Z",
     "shell.execute_reply": "2022-05-17T21:00:44.244601Z",
     "shell.execute_reply.started": "2022-05-17T21:00:43.684057Z"
    },
    "tags": []
   },
   "outputs": [],
   "source": [
    "# scale data\n",
    "test_scaleded_df2 = MinMaxScaler().fit_transform(X_test_df2.select_dtypes(include=['float64', 'int64', 'int32']))\n",
    "\n",
    "X_test_df2[X_test_df2.select_dtypes(include=['float64', 'int64', 'int32']).columns] = test_scaleded_df2"
   ]
  },
  {
   "cell_type": "markdown",
   "id": "de03d4eb-a075-45de-916f-39f8697b9e02",
   "metadata": {},
   "source": [
    "### RandomForest"
   ]
  },
  {
   "cell_type": "markdown",
   "id": "305badb9-7682-4d61-b917-22c321f21161",
   "metadata": {},
   "source": [
    "#### Train without generated data"
   ]
  },
  {
   "cell_type": "code",
   "execution_count": 66,
   "id": "33f10089-3e49-4540-9f9c-eb6c971a923a",
   "metadata": {
    "execution": {
     "iopub.execute_input": "2022-05-17T21:00:44.247593Z",
     "iopub.status.busy": "2022-05-17T21:00:44.247593Z",
     "iopub.status.idle": "2022-05-17T21:00:44.261631Z",
     "shell.execute_reply": "2022-05-17T21:00:44.260625Z",
     "shell.execute_reply.started": "2022-05-17T21:00:44.247593Z"
    },
    "tags": []
   },
   "outputs": [],
   "source": [
    "f1_scores2 = {}"
   ]
  },
  {
   "cell_type": "code",
   "execution_count": 67,
   "id": "e7c294a3-8003-4989-8cf8-4d91f952c408",
   "metadata": {
    "execution": {
     "iopub.execute_input": "2022-05-17T21:00:44.262631Z",
     "iopub.status.busy": "2022-05-17T21:00:44.262631Z",
     "iopub.status.idle": "2022-05-17T21:00:48.132705Z",
     "shell.execute_reply": "2022-05-17T21:00:48.132705Z",
     "shell.execute_reply.started": "2022-05-17T21:00:44.262631Z"
    },
    "tags": []
   },
   "outputs": [
    {
     "data": {
      "text/plain": [
       "RandomForestClassifier(n_jobs=-1, random_state=42)"
      ]
     },
     "execution_count": 67,
     "metadata": {},
     "output_type": "execute_result"
    }
   ],
   "source": [
    "clf = RandomForestClassifier(random_state=42, n_jobs=-1)\n",
    "\n",
    "clf.fit(X_train_df2_raw, y_train_df2_raw)"
   ]
  },
  {
   "cell_type": "code",
   "execution_count": 68,
   "id": "804b250a-f582-43fb-99ba-dc8fb3ee94ed",
   "metadata": {
    "execution": {
     "iopub.execute_input": "2022-05-17T21:00:48.134723Z",
     "iopub.status.busy": "2022-05-17T21:00:48.133715Z",
     "iopub.status.idle": "2022-05-17T21:00:48.573082Z",
     "shell.execute_reply": "2022-05-17T21:00:48.572090Z",
     "shell.execute_reply.started": "2022-05-17T21:00:48.134723Z"
    },
    "tags": []
   },
   "outputs": [],
   "source": [
    "pred = clf.predict(X_test_df2.drop(columns_drop, axis=1))"
   ]
  },
  {
   "cell_type": "code",
   "execution_count": 69,
   "id": "d060489c-34f4-48ff-9835-6365845f19ca",
   "metadata": {
    "execution": {
     "iopub.execute_input": "2022-05-17T21:00:48.574073Z",
     "iopub.status.busy": "2022-05-17T21:00:48.574073Z",
     "iopub.status.idle": "2022-05-17T21:00:48.665402Z",
     "shell.execute_reply": "2022-05-17T21:00:48.665402Z",
     "shell.execute_reply.started": "2022-05-17T21:00:48.574073Z"
    },
    "tags": []
   },
   "outputs": [
    {
     "name": "stdout",
     "output_type": "stream",
     "text": [
      "              precision    recall  f1-score   support\n",
      "\n",
      "           0       0.91      1.00      0.95       617\n",
      "           1       0.98      0.80      0.88       716\n",
      "           2       0.97      0.98      0.97      4015\n",
      "           3       1.00      1.00      1.00     11137\n",
      "           4       1.00      1.00      1.00      6090\n",
      "           5       1.00      1.00      1.00     18840\n",
      "           6       1.00      1.00      1.00     37000\n",
      "           7       0.99      1.00      1.00      3472\n",
      "           8       1.00      0.93      0.96       408\n",
      "           9       0.84      1.00      0.91        37\n",
      "\n",
      "    accuracy                           1.00     82332\n",
      "   macro avg       0.97      0.97      0.97     82332\n",
      "weighted avg       1.00      1.00      1.00     82332\n",
      "\n"
     ]
    }
   ],
   "source": [
    "f1_scores2['RF_Raw'] = f1_score(pred, y_test_df2, average=None)\n",
    "print(classification_report(pred, y_test_df2))"
   ]
  },
  {
   "cell_type": "markdown",
   "id": "decd0f7f-4f1f-431a-97e7-01e73576fb33",
   "metadata": {},
   "source": [
    "#### Train with generated data"
   ]
  },
  {
   "cell_type": "code",
   "execution_count": 70,
   "id": "45ec0ab6-a232-4d6e-9aca-876a432d2a64",
   "metadata": {
    "execution": {
     "iopub.execute_input": "2022-05-17T21:00:48.667401Z",
     "iopub.status.busy": "2022-05-17T21:00:48.667401Z",
     "iopub.status.idle": "2022-05-17T21:01:05.806140Z",
     "shell.execute_reply": "2022-05-17T21:01:05.806140Z",
     "shell.execute_reply.started": "2022-05-17T21:00:48.667401Z"
    },
    "tags": []
   },
   "outputs": [
    {
     "name": "stdout",
     "output_type": "stream",
     "text": [
      "              precision    recall  f1-score   support\n",
      "\n",
      "           0       0.99      1.00      0.99       667\n",
      "           1       0.99      0.96      0.98       601\n",
      "           2       1.00      1.00      1.00      4079\n",
      "           3       1.00      1.00      1.00     11152\n",
      "           4       1.00      0.98      0.99      6206\n",
      "           5       0.99      1.00      1.00     18705\n",
      "           6       1.00      1.00      1.00     37000\n",
      "           7       0.99      1.00      1.00      3471\n",
      "           8       1.00      0.92      0.96       412\n",
      "           9       0.86      0.97      0.92        39\n",
      "\n",
      "    accuracy                           1.00     82332\n",
      "   macro avg       0.98      0.98      0.98     82332\n",
      "weighted avg       1.00      1.00      1.00     82332\n",
      "\n"
     ]
    }
   ],
   "source": [
    "for j in range(3):\n",
    "    clf = RandomForestClassifier(random_state=42, n_jobs=-1)\n",
    "\n",
    "    clf.fit(X_train_df2s[j], y_train_df2s[j])\n",
    "\n",
    "    pred = clf.predict(X_test_df2.drop(columns_drop, axis=1))\n",
    "\n",
    "    f1_scores2[f'RF_Gen_{j}'] = f1_score(pred, y_test_df2, average=None)\n",
    "print(classification_report(pred, y_test_df2))"
   ]
  },
  {
   "cell_type": "markdown",
   "id": "57a87dd0-0526-42dd-9a2c-0580b0ae1c08",
   "metadata": {},
   "source": [
    "### Explainable Boosting Machine"
   ]
  },
  {
   "cell_type": "markdown",
   "id": "9f2622ba-c5bc-47d1-8683-7163b0e3b284",
   "metadata": {},
   "source": [
    "#### Train without generated data"
   ]
  },
  {
   "cell_type": "code",
   "execution_count": 71,
   "id": "6d683438-96df-49e6-a1de-ae6c31d3c284",
   "metadata": {
    "execution": {
     "iopub.execute_input": "2022-05-17T21:01:05.807142Z",
     "iopub.status.busy": "2022-05-17T21:01:05.807142Z",
     "iopub.status.idle": "2022-05-17T21:23:36.959602Z",
     "shell.execute_reply": "2022-05-17T21:23:36.959602Z",
     "shell.execute_reply.started": "2022-05-17T21:01:05.807142Z"
    },
    "tags": []
   },
   "outputs": [
    {
     "data": {
      "text/plain": [
       "ExplainableBoostingClassifier(feature_names=['feature_0001', 'feature_0002',\n",
       "                                             'feature_0003', 'feature_0004',\n",
       "                                             'feature_0005', 'feature_0006',\n",
       "                                             'feature_0007', 'feature_0008',\n",
       "                                             'feature_0009', 'feature_0010',\n",
       "                                             'feature_0011', 'feature_0012',\n",
       "                                             'feature_0013', 'feature_0014',\n",
       "                                             'feature_0015', 'feature_0016',\n",
       "                                             'feature_0017', 'feature_0018',\n",
       "                                             'feature_0019', 'feature_0020',\n",
       "                                             'feat...\n",
       "                                             'continuous', 'continuous',\n",
       "                                             'continuous', 'continuous',\n",
       "                                             'continuous', 'continuous',\n",
       "                                             'continuous', 'continuous',\n",
       "                                             'continuous', 'continuous',\n",
       "                                             'continuous', 'continuous',\n",
       "                                             'continuous', 'continuous',\n",
       "                                             'continuous', 'continuous',\n",
       "                                             'continuous', 'continuous',\n",
       "                                             'continuous', 'continuous',\n",
       "                                             'continuous', 'continuous',\n",
       "                                             'continuous', 'continuous',\n",
       "                                             'continuous', 'continuous', ...],\n",
       "                              interactions=0, n_jobs=-1)"
      ]
     },
     "execution_count": 71,
     "metadata": {},
     "output_type": "execute_result"
    }
   ],
   "source": [
    "ebm = ExplainableBoostingClassifier(random_state=42, n_jobs=-1)\n",
    "\n",
    "ebm.fit(X_train_df2_raw, y_train_df2_raw)"
   ]
  },
  {
   "cell_type": "code",
   "execution_count": 72,
   "id": "bfbaa1a8-5256-439c-ac32-aa8d42610fe6",
   "metadata": {
    "execution": {
     "iopub.execute_input": "2022-05-17T21:23:36.961599Z",
     "iopub.status.busy": "2022-05-17T21:23:36.960593Z",
     "iopub.status.idle": "2022-05-17T21:23:37.226623Z",
     "shell.execute_reply": "2022-05-17T21:23:37.225638Z",
     "shell.execute_reply.started": "2022-05-17T21:23:36.961599Z"
    },
    "tags": []
   },
   "outputs": [],
   "source": [
    "pred = ebm.predict(X_test_df2.drop(columns_drop, axis=1))"
   ]
  },
  {
   "cell_type": "code",
   "execution_count": 73,
   "id": "11ed446d-9bf5-4ea4-ab3e-b75cc5950852",
   "metadata": {
    "execution": {
     "iopub.execute_input": "2022-05-17T21:23:37.227621Z",
     "iopub.status.busy": "2022-05-17T21:23:37.226623Z",
     "iopub.status.idle": "2022-05-17T21:23:37.321834Z",
     "shell.execute_reply": "2022-05-17T21:23:37.320833Z",
     "shell.execute_reply.started": "2022-05-17T21:23:37.226623Z"
    },
    "tags": []
   },
   "outputs": [
    {
     "name": "stdout",
     "output_type": "stream",
     "text": [
      "              precision    recall  f1-score   support\n",
      "\n",
      "           0       1.00      1.00      1.00       677\n",
      "           1       0.99      1.00      0.99       577\n",
      "           2       1.00      1.00      1.00      4095\n",
      "           3       1.00      1.00      1.00     11117\n",
      "           4       0.99      0.82      0.90      7335\n",
      "           5       0.93      0.99      0.96     17643\n",
      "           6       1.00      1.00      1.00     37000\n",
      "           7       1.00      0.98      0.99      3551\n",
      "           8       0.80      0.99      0.88       304\n",
      "           9       0.75      1.00      0.86        33\n",
      "\n",
      "    accuracy                           0.98     82332\n",
      "   macro avg       0.95      0.98      0.96     82332\n",
      "weighted avg       0.98      0.98      0.98     82332\n",
      "\n"
     ]
    }
   ],
   "source": [
    "f1_scores2['EBM_Raw'] = f1_score(pred, y_test_df2, average=None)\n",
    "print(classification_report(pred, y_test_df2))"
   ]
  },
  {
   "cell_type": "markdown",
   "id": "ba8b2f90-48a8-45ce-9414-60aa16405c5e",
   "metadata": {},
   "source": [
    "#### Train with generated data"
   ]
  },
  {
   "cell_type": "code",
   "execution_count": 74,
   "id": "bc3f699b-28eb-4aa4-bb59-6d39c73426d6",
   "metadata": {
    "execution": {
     "iopub.execute_input": "2022-05-17T21:23:37.322540Z",
     "iopub.status.busy": "2022-05-17T21:23:37.322540Z",
     "iopub.status.idle": "2022-05-17T22:22:27.936860Z",
     "shell.execute_reply": "2022-05-17T22:22:27.935855Z",
     "shell.execute_reply.started": "2022-05-17T21:23:37.322540Z"
    },
    "tags": []
   },
   "outputs": [
    {
     "name": "stdout",
     "output_type": "stream",
     "text": [
      "              precision    recall  f1-score   support\n",
      "\n",
      "           0       1.00      1.00      1.00       677\n",
      "           1       1.00      0.98      0.99       594\n",
      "           2       1.00      1.00      1.00      4090\n",
      "           3       1.00      1.00      1.00     11125\n",
      "           4       1.00      0.97      0.99      6227\n",
      "           5       0.99      1.00      0.99     18604\n",
      "           6       1.00      1.00      1.00     37000\n",
      "           7       1.00      0.99      1.00      3512\n",
      "           8       1.00      0.82      0.90       460\n",
      "           9       0.91      0.93      0.92        43\n",
      "\n",
      "    accuracy                           1.00     82332\n",
      "   macro avg       0.99      0.97      0.98     82332\n",
      "weighted avg       1.00      1.00      1.00     82332\n",
      "\n"
     ]
    }
   ],
   "source": [
    "for j in range(3):\n",
    "    ebm = ExplainableBoostingClassifier(random_state=42, n_jobs=-1)\n",
    "\n",
    "    ebm.fit(X_train_df2s[j], y_train_df2s[j])\n",
    "\n",
    "    pred = ebm.predict(X_test_df2.drop(columns_drop, axis=1))\n",
    "\n",
    "    f1_scores2[f'EBM_Gen_{j}'] = f1_score(pred, y_test_df2, average=None)\n",
    "print(classification_report(pred, y_test_df2))"
   ]
  },
  {
   "cell_type": "markdown",
   "id": "a6084352-9bc5-418e-a53c-a9a2886342c8",
   "metadata": {},
   "source": [
    "### Simple NN"
   ]
  },
  {
   "cell_type": "code",
   "execution_count": 75,
   "id": "7fb21473-5c09-4985-8b37-32c53d7031d9",
   "metadata": {
    "execution": {
     "iopub.execute_input": "2022-05-17T22:22:27.937855Z",
     "iopub.status.busy": "2022-05-17T22:22:27.937855Z",
     "iopub.status.idle": "2022-05-17T22:22:27.952890Z",
     "shell.execute_reply": "2022-05-17T22:22:27.951886Z",
     "shell.execute_reply.started": "2022-05-17T22:22:27.937855Z"
    },
    "tags": []
   },
   "outputs": [],
   "source": [
    "class Net(nn.Module):\n",
    "    def __init__(self,D_in,H,D_out):\n",
    "        super(Net,self).__init__()\n",
    "        self.linear1=nn.Linear(D_in,H)\n",
    "        self.linear2=nn.Linear(H,D_out)\n",
    "\n",
    "        \n",
    "    def forward(self,x):\n",
    "        x=F.relu(self.linear1(x))\n",
    "        x=self.linear2(x)\n",
    "        return x"
   ]
  },
  {
   "cell_type": "markdown",
   "id": "72564730-1dd6-4e32-abf5-273add29660d",
   "metadata": {},
   "source": [
    "#### Train without generated data"
   ]
  },
  {
   "cell_type": "code",
   "execution_count": 76,
   "id": "b91d9aa1-5fea-4473-a830-18006548a12d",
   "metadata": {
    "execution": {
     "iopub.execute_input": "2022-05-17T22:22:27.953876Z",
     "iopub.status.busy": "2022-05-17T22:22:27.953876Z",
     "iopub.status.idle": "2022-05-17T22:22:27.968886Z",
     "shell.execute_reply": "2022-05-17T22:22:27.967889Z",
     "shell.execute_reply.started": "2022-05-17T22:22:27.953876Z"
    },
    "tags": []
   },
   "outputs": [],
   "source": [
    "input_dim=X_train_df2_raw.shape[1]     # how many Variables are in the dataset\n",
    "hidden_dim = 25 # hidden layers\n",
    "output_dim=10    # number of classes"
   ]
  },
  {
   "cell_type": "code",
   "execution_count": 77,
   "id": "cd2af8ac-55b5-4f22-a828-c2b81e15ef8c",
   "metadata": {
    "execution": {
     "iopub.execute_input": "2022-05-17T22:22:27.969886Z",
     "iopub.status.busy": "2022-05-17T22:22:27.969886Z",
     "iopub.status.idle": "2022-05-17T22:22:28.046906Z",
     "shell.execute_reply": "2022-05-17T22:22:28.045903Z",
     "shell.execute_reply.started": "2022-05-17T22:22:27.969886Z"
    },
    "tags": []
   },
   "outputs": [],
   "source": [
    "simple_net = Net(input_dim,hidden_dim,output_dim).to(device)\n",
    "\n",
    "dataset = UNSWDataset(X_train_df2_raw, y_train_df2_raw, device=device)\n",
    "test_dataset = UNSWDataset(X_test_df2.drop(columns_drop, axis=1).values, y_test_df2, device=device)\n",
    "data_loader = torch.utils.data.DataLoader(dataset, batch_size=256, shuffle=True)\n",
    "\n",
    "criterion = nn.CrossEntropyLoss()\n",
    "\n",
    "learning_rate=0.01\n",
    "optimizer=torch.optim.SGD(simple_net.parameters(), lr=learning_rate)"
   ]
  },
  {
   "cell_type": "code",
   "execution_count": 79,
   "id": "4d322e8c-04d8-4b9f-8e97-b0eb26138536",
   "metadata": {
    "execution": {
     "iopub.execute_input": "2022-05-17T22:22:53.309673Z",
     "iopub.status.busy": "2022-05-17T22:22:53.308676Z",
     "iopub.status.idle": "2022-05-17T22:26:24.859735Z",
     "shell.execute_reply": "2022-05-17T22:26:24.858743Z",
     "shell.execute_reply.started": "2022-05-17T22:22:53.309673Z"
    },
    "tags": []
   },
   "outputs": [
    {
     "name": "stderr",
     "output_type": "stream",
     "text": [
      "100%|████████████████████████████████████████████████████████████████████████████████████████████████████████████████████████████████████████████████| 100/100 [03:31<00:00,  2.12s/it]\n"
     ]
    }
   ],
   "source": [
    "n_epochs=100\n",
    "loss_list=[]\n",
    "test_loss = []\n",
    "for epoch in tqdm(range(n_epochs)):\n",
    "    l = []\n",
    "    for x, y in data_loader:\n",
    "        #clear gradient \n",
    "        y = y.to(torch.long)\n",
    "        optimizer.zero_grad()\n",
    "        #make a prediction \n",
    "        z=simple_net(x)\n",
    "        # calculate loss\n",
    "        loss=criterion(z,y)\n",
    "        # calculate gradients of parameters \n",
    "        loss.backward()\n",
    "        # update parameters \n",
    "        optimizer.step()\n",
    "\n",
    "        l.append(loss.item())\n",
    "    loss_list.append(np.mean(l))\n",
    "    test_loss.append(f1_score(torch.argmax(F.softmax(simple_net(test_dataset.X)), axis=1).cpu(), y_test_df2, average='macro'))"
   ]
  },
  {
   "cell_type": "code",
   "execution_count": 80,
   "id": "92c26c5e-90ce-4a20-bb6e-651d5bced2fa",
   "metadata": {
    "execution": {
     "iopub.execute_input": "2022-05-17T22:26:24.860738Z",
     "iopub.status.busy": "2022-05-17T22:26:24.860738Z",
     "iopub.status.idle": "2022-05-17T22:26:24.905730Z",
     "shell.execute_reply": "2022-05-17T22:26:24.905730Z",
     "shell.execute_reply.started": "2022-05-17T22:26:24.860738Z"
    },
    "tags": []
   },
   "outputs": [],
   "source": [
    "f1_scores2[f\"NN_Raw\"] = f1_score(torch.argmax(F.softmax(simple_net(test_dataset.X)), axis=1).cpu(), y_test_df2, average=None)"
   ]
  },
  {
   "cell_type": "markdown",
   "id": "ab315642-6578-4eb6-b80b-01cbb00f3abe",
   "metadata": {},
   "source": [
    "#### Train with generated data"
   ]
  },
  {
   "cell_type": "code",
   "execution_count": 81,
   "id": "55b2cdd3-5af9-4638-b101-e1d49ffc2f33",
   "metadata": {
    "execution": {
     "iopub.execute_input": "2022-05-17T22:26:24.907730Z",
     "iopub.status.busy": "2022-05-17T22:26:24.907730Z",
     "iopub.status.idle": "2022-05-17T22:26:24.922733Z",
     "shell.execute_reply": "2022-05-17T22:26:24.921723Z",
     "shell.execute_reply.started": "2022-05-17T22:26:24.907730Z"
    },
    "tags": []
   },
   "outputs": [],
   "source": [
    "input_dim=X_train_df2s[0].shape[1]     # how many Variables are in the dataset\n",
    "hidden_dim = 25 # hidden layers\n",
    "output_dim=10    # number of classes"
   ]
  },
  {
   "cell_type": "code",
   "execution_count": 82,
   "id": "e48bc63d-0396-4f3c-94cd-4598e89c15c2",
   "metadata": {
    "execution": {
     "iopub.execute_input": "2022-05-17T22:26:24.924738Z",
     "iopub.status.busy": "2022-05-17T22:26:24.924738Z",
     "iopub.status.idle": "2022-05-17T22:26:24.983727Z",
     "shell.execute_reply": "2022-05-17T22:26:24.983727Z",
     "shell.execute_reply.started": "2022-05-17T22:26:24.924738Z"
    },
    "tags": []
   },
   "outputs": [],
   "source": [
    "simple_nets = [Net(input_dim,hidden_dim,output_dim).to(device) for _ in range(3)]\n",
    "\n",
    "datasets = [UNSWDataset(X_train_df2s[j], y_train_df2s[j], device=device) for j in range(3)]\n",
    "data_loaders = [torch.utils.data.DataLoader(dataset, batch_size=256, shuffle=True) for dataset in datasets]\n",
    "\n",
    "criterion = nn.CrossEntropyLoss()\n",
    "\n",
    "learning_rate=0.01\n",
    "optimizers=[torch.optim.SGD(simple_net.parameters(), lr=learning_rate) for simple_net in simple_nets]"
   ]
  },
  {
   "cell_type": "code",
   "execution_count": 83,
   "id": "b241ecbf-75aa-4fa7-b10e-1d22296080c6",
   "metadata": {
    "execution": {
     "iopub.execute_input": "2022-05-17T22:26:24.985727Z",
     "iopub.status.busy": "2022-05-17T22:26:24.984731Z",
     "iopub.status.idle": "2022-05-17T22:32:29.225115Z",
     "shell.execute_reply": "2022-05-17T22:32:29.225115Z",
     "shell.execute_reply.started": "2022-05-17T22:26:24.985727Z"
    },
    "tags": []
   },
   "outputs": [
    {
     "name": "stderr",
     "output_type": "stream",
     "text": [
      "100%|████████████████████████████████████████████████████████████████████████████████████████████████████████████████████████████████████████████████| 100/100 [02:02<00:00,  1.22s/it]\n",
      "100%|████████████████████████████████████████████████████████████████████████████████████████████████████████████████████████████████████████████████| 100/100 [02:01<00:00,  1.21s/it]\n",
      "100%|████████████████████████████████████████████████████████████████████████████████████████████████████████████████████████████████████████████████| 100/100 [02:00<00:00,  1.21s/it]\n"
     ]
    }
   ],
   "source": [
    "loss_lists = []\n",
    "test_losses = []\n",
    "for j in range(3):\n",
    "    n_epochs=100\n",
    "    loss_list=[]\n",
    "    test_loss = []\n",
    "    #n_epochs\n",
    "    for epoch in tqdm(range(n_epochs)):\n",
    "        l = []\n",
    "        for x, y in data_loaders[j]:\n",
    "            #clear gradient \n",
    "            y = y.to(torch.long)\n",
    "            optimizers[j].zero_grad()\n",
    "            #make a prediction \n",
    "            z=simple_nets[j](x)\n",
    "            # calculate loss\n",
    "            loss=criterion(z,y)\n",
    "            # calculate gradients of parameters \n",
    "            loss.backward()\n",
    "            # update parameters \n",
    "            optimizers[j].step()\n",
    "\n",
    "            l.append(loss.item())\n",
    "        loss_list.append(np.mean(l))\n",
    "        test_loss.append(f1_score(torch.argmax(F.softmax(simple_nets[j](test_dataset.X)), axis=1).cpu(), y_test_df2, average='macro'))\n",
    "    loss_list.append(loss_list)\n",
    "    test_losses.append(test_loss)"
   ]
  },
  {
   "cell_type": "code",
   "execution_count": 84,
   "id": "4028557a-b773-40c8-8cb9-fbd3365b318a",
   "metadata": {
    "execution": {
     "iopub.execute_input": "2022-05-17T22:32:29.226113Z",
     "iopub.status.busy": "2022-05-17T22:32:29.226113Z",
     "iopub.status.idle": "2022-05-17T22:32:29.320113Z",
     "shell.execute_reply": "2022-05-17T22:32:29.320113Z",
     "shell.execute_reply.started": "2022-05-17T22:32:29.226113Z"
    },
    "tags": []
   },
   "outputs": [],
   "source": [
    "for j in range(3):\n",
    "    f1_scores2[f\"NN_Gen_{j}\"] = f1_score(torch.argmax(F.softmax(simple_nets[j](test_dataset.X)), axis=1).cpu(), y_test_df2, average=None)"
   ]
  },
  {
   "cell_type": "code",
   "execution_count": 85,
   "id": "ec882475-8965-40eb-9f3e-e1b437ae0645",
   "metadata": {
    "execution": {
     "iopub.execute_input": "2022-05-17T22:32:29.322113Z",
     "iopub.status.busy": "2022-05-17T22:32:29.321113Z",
     "iopub.status.idle": "2022-05-17T22:32:29.336116Z",
     "shell.execute_reply": "2022-05-17T22:32:29.336116Z",
     "shell.execute_reply.started": "2022-05-17T22:32:29.321113Z"
    },
    "tags": []
   },
   "outputs": [],
   "source": [
    "classifiers = ['RF', 'EBM', 'NN']\n",
    "type_data = ['Raw', 'Gen']\n",
    "mean_f1 = []\n",
    "for classifier in classifiers:\n",
    "    for d in type_data:\n",
    "        if d == 'Gen':\n",
    "            f1 = []\n",
    "            for i in range(3):\n",
    "                f1.append(f1_scores2[f'{classifier}_{d}_{i}'].mean())\n",
    "        else:\n",
    "            f1 = [f1_scores2[f'{classifier}_{d}']]\n",
    "        mean_f1.append((classifier, d, np.mean(f1)))\n",
    "            "
   ]
  },
  {
   "cell_type": "code",
   "execution_count": 132,
   "id": "ffb411b5-ac22-4f49-b2a3-3aeb33a2d84a",
   "metadata": {
    "execution": {
     "iopub.execute_input": "2022-05-17T22:44:56.743859Z",
     "iopub.status.busy": "2022-05-17T22:44:56.742860Z",
     "iopub.status.idle": "2022-05-17T22:44:56.852852Z",
     "shell.execute_reply": "2022-05-17T22:44:56.852852Z",
     "shell.execute_reply.started": "2022-05-17T22:44:56.743859Z"
    },
    "tags": []
   },
   "outputs": [
    {
     "data": {
      "image/png": "[encoded data removed]",
      "text/plain": [
       "<Figure size 432x288 with 1 Axes>"
      ]
     },
     "metadata": {
      "needs_background": "light"
     },
     "output_type": "display_data"
    }
   ],
   "source": [
    "y = ['Imbalanced', 'Balanced with cGAN']\n",
    "X = ['Random Forest','Explainable Boosting', 'Simple Neural Net']\n",
    "raw = [mean_f1[0][2], mean_f1[2][2], mean_f1[4][2]]\n",
    "gen = [mean_f1[1][2], mean_f1[3][2], mean_f1[5][2]]\n",
    "  \n",
    "X_axis = np.arange(len(X))\n",
    "  \n",
    "plt.bar(X_axis - 0.2, raw, 0.4, label = y[0])\n",
    "plt.bar(X_axis + 0.2, gen, 0.4, label = y[1])\n",
    "\n",
    "plt.xticks(X_axis, X)\n",
    "plt.ylabel(\"Average F1\")\n",
    "plt.legend()\n",
    "plt.tight_layout()\n",
    "plt.show()"
   ]
  },
  {
   "cell_type": "code",
   "execution_count": null,
   "id": "c76b338a-c2d4-4af7-8599-3449812a6ef3",
   "metadata": {},
   "outputs": [],
   "source": []
  },
  {
   "cell_type": "code",
   "execution_count": null,
   "id": "67bbdf42-108b-4b8a-a457-24f68939c5df",
   "metadata": {},
   "outputs": [],
   "source": []
  }
 ],
 "metadata": {
  "kernelspec": {
   "display_name": "Python 3 (ipykernel)",
   "language": "python",
   "name": "python3"
  },
  "language_info": {
   "codemirror_mode": {
    "name": "ipython",
    "version": 3
   },
   "file_extension": ".py",
   "mimetype": "text/x-python",
   "name": "python",
   "nbconvert_exporter": "python",
   "pygments_lexer": "ipython3",
   "version": "3.9.9"
  }
 },
 "nbformat": 4,
 "nbformat_minor": 5
}
